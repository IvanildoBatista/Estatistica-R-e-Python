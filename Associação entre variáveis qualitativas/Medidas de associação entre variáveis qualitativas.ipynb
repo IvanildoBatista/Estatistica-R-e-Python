{
 "cells": [
  {
   "cell_type": "markdown",
   "metadata": {},
   "source": [
    "# Associação entre variáveis qualitativas\n",
    "\n",
    "É mais comum falar sobre a associação ou relação (correlação) entre variáveis quantitativas, porém é possível identificar associações entre variáveis qualitativas. Para essa última, existem medidas que são úteis para identificar a associação e sua intensidade (ou o grau de dependência entre elas) de modo que seja possível saber melhor os seus resultados com base em outras váriáveis. Para isso é necessário calcular a distribuição conjunta entre as variáveis por meio da tabela de contingência.\n",
    "\n",
    "A princiais medidas de associação entre variáveis qualitativas são:\n",
    "\n",
    "1) Coeficiente de contingência;\n",
    "\n",
    "2) Coeficiente de contingência modificado;\n",
    "\n",
    "3) Coeficiente *V* de *Crammer*.\n",
    "\n",
    "## Importando as bibliotecas"
   ]
  },
  {
   "cell_type": "code",
   "execution_count": 1,
   "metadata": {},
   "outputs": [],
   "source": [
    "import pandas as pd\n",
    "from scipy.stats import chi2_contingency"
   ]
  },
  {
   "cell_type": "markdown",
   "metadata": {},
   "source": [
    "## Importando a base de dados"
   ]
  },
  {
   "cell_type": "code",
   "execution_count": 3,
   "metadata": {},
   "outputs": [],
   "source": [
    "casa = pd.read_csv('Mumbai1.csv')"
   ]
  },
  {
   "cell_type": "markdown",
   "metadata": {},
   "source": [
    "Criando as tabelas de contingência com e sem as margens.\n",
    "\n",
    "Calcularei a tabela de contingência para as variáveis *Swimming Pool* (se a casa possui piscina ou não) e *New/Resale* (se a casa é nova ou está para revenda). Não importa a ordem das variáveis, pois o resultado dos coeficientes será o mesmo.\n",
    "\n",
    "A tabela de cotingência possui dimensões *k* x *r*, onde *k* é o número de linha e *r* o número de colunas da tabela. Para esse exemplo, temos cada variável com 2 classes, logo a tabela será 2x2.\n"
   ]
  },
  {
   "cell_type": "code",
   "execution_count": 8,
   "metadata": {},
   "outputs": [],
   "source": [
    "tabela = pd.crosstab(casa['Swimming Pool'],casa['New/Resale'])\n",
    "tabela2 =  pd.crosstab(casa['Swimming Pool'],casa['New/Resale'], margins=True)"
   ]
  },
  {
   "cell_type": "markdown",
   "metadata": {},
   "source": [
    "Abaixo as tabelas calculadas."
   ]
  },
  {
   "cell_type": "code",
   "execution_count": 9,
   "metadata": {},
   "outputs": [
    {
     "data": {
      "text/html": [
       "<div>\n",
       "<style scoped>\n",
       "    .dataframe tbody tr th:only-of-type {\n",
       "        vertical-align: middle;\n",
       "    }\n",
       "\n",
       "    .dataframe tbody tr th {\n",
       "        vertical-align: top;\n",
       "    }\n",
       "\n",
       "    .dataframe thead th {\n",
       "        text-align: right;\n",
       "    }\n",
       "</style>\n",
       "<table border=\"1\" class=\"dataframe\">\n",
       "  <thead>\n",
       "    <tr style=\"text-align: right;\">\n",
       "      <th>New/Resale</th>\n",
       "      <th>0</th>\n",
       "      <th>1</th>\n",
       "    </tr>\n",
       "    <tr>\n",
       "      <th>Swimming Pool</th>\n",
       "      <th></th>\n",
       "      <th></th>\n",
       "    </tr>\n",
       "  </thead>\n",
       "  <tbody>\n",
       "    <tr>\n",
       "      <th>0</th>\n",
       "      <td>2678</td>\n",
       "      <td>760</td>\n",
       "    </tr>\n",
       "    <tr>\n",
       "      <th>1</th>\n",
       "      <td>1500</td>\n",
       "      <td>1409</td>\n",
       "    </tr>\n",
       "  </tbody>\n",
       "</table>\n",
       "</div>"
      ],
      "text/plain": [
       "New/Resale        0     1\n",
       "Swimming Pool            \n",
       "0              2678   760\n",
       "1              1500  1409"
      ]
     },
     "execution_count": 9,
     "metadata": {},
     "output_type": "execute_result"
    }
   ],
   "source": [
    "#tabela sem as margens\n",
    "tabela"
   ]
  },
  {
   "cell_type": "code",
   "execution_count": 10,
   "metadata": {},
   "outputs": [
    {
     "data": {
      "text/html": [
       "<div>\n",
       "<style scoped>\n",
       "    .dataframe tbody tr th:only-of-type {\n",
       "        vertical-align: middle;\n",
       "    }\n",
       "\n",
       "    .dataframe tbody tr th {\n",
       "        vertical-align: top;\n",
       "    }\n",
       "\n",
       "    .dataframe thead th {\n",
       "        text-align: right;\n",
       "    }\n",
       "</style>\n",
       "<table border=\"1\" class=\"dataframe\">\n",
       "  <thead>\n",
       "    <tr style=\"text-align: right;\">\n",
       "      <th>New/Resale</th>\n",
       "      <th>0</th>\n",
       "      <th>1</th>\n",
       "      <th>All</th>\n",
       "    </tr>\n",
       "    <tr>\n",
       "      <th>Swimming Pool</th>\n",
       "      <th></th>\n",
       "      <th></th>\n",
       "      <th></th>\n",
       "    </tr>\n",
       "  </thead>\n",
       "  <tbody>\n",
       "    <tr>\n",
       "      <th>0</th>\n",
       "      <td>2678</td>\n",
       "      <td>760</td>\n",
       "      <td>3438</td>\n",
       "    </tr>\n",
       "    <tr>\n",
       "      <th>1</th>\n",
       "      <td>1500</td>\n",
       "      <td>1409</td>\n",
       "      <td>2909</td>\n",
       "    </tr>\n",
       "    <tr>\n",
       "      <th>All</th>\n",
       "      <td>4178</td>\n",
       "      <td>2169</td>\n",
       "      <td>6347</td>\n",
       "    </tr>\n",
       "  </tbody>\n",
       "</table>\n",
       "</div>"
      ],
      "text/plain": [
       "New/Resale        0     1   All\n",
       "Swimming Pool                  \n",
       "0              2678   760  3438\n",
       "1              1500  1409  2909\n",
       "All            4178  2169  6347"
      ]
     },
     "execution_count": 10,
     "metadata": {},
     "output_type": "execute_result"
    }
   ],
   "source": [
    "#tabela com as margens\n",
    "tabela2"
   ]
  },
  {
   "cell_type": "markdown",
   "metadata": {},
   "source": [
    "## Estatística $\\chi^2$\n",
    "\n",
    "Para calcular os coeficientes é necessário calcular a estatística $\\chi^2$. A forma para calcular essas estatística é utilizando a **tabela de contingência original** e uma outra **tabela de contingência esperada** (calculada assumindo que as variáveis são independentes).\n",
    "\n",
    "A forma de cálculo é dada abaixo\n",
    "\n",
    "$\\chi^2 = \\sum_{i=1}^{r} \\sum_{j=1}^k \\dfrac{(O_{ij} - E_{ij})^2}{E_{ij}}$\n",
    "\n",
    "Podem haver casos que o número de classe das variáveis seja muito grande, tornando o cálculo inviável. Porém, abaixo, a função *chi2_contingency* permite calcular o que é necessário: o estatística $\\chi^2$, o *p-valor* da estatística, o grau de liberdade e a tabela de contingência esperada."
   ]
  },
  {
   "cell_type": "code",
   "execution_count": 25,
   "metadata": {},
   "outputs": [
    {
     "name": "stdout",
     "output_type": "stream",
     "text": [
      "Estatística Chi² : 484.44541695318026\n",
      "p-valor : 2.3037749668207414e-107\n",
      "Graus de liberdade : 1\n",
      "\n",
      "             0            1\n",
      "0  2263.110761  1174.889239\n",
      "1  1914.889239   994.110761\n"
     ]
    }
   ],
   "source": [
    "print('Estatística Chi² :',chi2_contingency(tabela)[0])\n",
    "print('p-valor :', chi2_contingency(tabela)[1])\n",
    "print('Graus de liberdade :',chi2_contingency(tabela)[2])\n",
    "print(''*254)\n",
    "print(pd.DataFrame(chi2_contingency(tabela)[3]))"
   ]
  },
  {
   "cell_type": "markdown",
   "metadata": {},
   "source": [
    "Um valor grande da estatística $\\chi^2$ indica uma associação entre as variáveis, que parece ser o nosso caso.\n",
    "\n",
    "## Coeficiente de contingência *C*\n",
    "\n",
    "A medida mais conhecida para medir a associação entre variáveis qualitativas é o coeficiente de contingência *C*. Esse coeficiente pode ser obtido por meio da expressão logo abaixo\n",
    "\n",
    "$C = \\sqrt{\\dfrac{\\chi^2}{n + \\chi^2}}$\n",
    "\n",
    "\n",
    "onde $n$ é o número de observações da amostra.\n",
    "\n",
    "**Calculando o coeficiente de contingência**"
   ]
  },
  {
   "cell_type": "code",
   "execution_count": 13,
   "metadata": {},
   "outputs": [
    {
     "data": {
      "text/plain": [
       "0.2662969084029654"
      ]
     },
     "execution_count": 13,
     "metadata": {},
     "output_type": "execute_result"
    }
   ],
   "source": [
    "(chi2_contingency(tabela)[0]/(chi2_contingency(tabela)[0]+tabela2['All']['All']))**0.5"
   ]
  },
  {
   "cell_type": "markdown",
   "metadata": {},
   "source": [
    "### Teste de significância do coeficiente de contingência\n",
    "\n",
    "Depois de encontrar o valor do coeficiente de contingênci, o próximo passo é testar se a medida de associação é estatisticamente significativa. Testa-se a hipótese de nulidade de que não há associação, ou seja, que o valor observado ocorre aleatoriamente entre as amostras, mesmo que as populações não apresentem relação alguma. Para saber se o coeficiente *C* é estatisticamente significativo, basta que a estatística $\\chi^2$ seja estatisticamente significativa.\n",
    "\n",
    "Hipóteses:\n",
    "\n",
    "$H_0$ : Não há associação entre as duas variáveis\n",
    "\n",
    "$H_1$ : Há associação entre as duas variáveis\n",
    "\n",
    "Se o *p-valor* de $\\chi^2$ for inferior ao nível de significância escolhido (por padrão 5%), então a rejeita-se a hipótse de nulidade de associação.\n",
    "\n",
    "O resultado do *p-valor* calculado foi abaixo do valor do nível de significância, logo concluímos que há associação entre as duas variáveis qualitativas *Swimming Pool* e *ew/Resale*."
   ]
  },
  {
   "cell_type": "code",
   "execution_count": 36,
   "metadata": {},
   "outputs": [
    {
     "name": "stdout",
     "output_type": "stream",
     "text": [
      "p-valor : 2.3037749668207414e-107\n"
     ]
    }
   ],
   "source": [
    "print('p-valor :', chi2_contingency(tabela)[1])"
   ]
  },
  {
   "cell_type": "markdown",
   "metadata": {},
   "source": [
    "### Limitações do coeficiente de contingência *C*\n",
    "\n",
    "Para coeficientes de associação:\n",
    "\n",
    "1) houver ausência de associação, então o valor do coeficiente é zero;\n",
    "\n",
    "2) Se a associação for perfeita, então o valor do coeficiente será 1.\n",
    "\n",
    "O coeficiente *C* é sempre menor que 1, então mesmo que as variáveis tenham uma associação perfeita, o valor do coeficiente nuna será 1.\n",
    "\n",
    "No exemplo abaixo eu inseri a mesma variável *Swimming Pool* que é perfeitamente associada consigo mesma e o valor do coeficente de contingência *C* não é só menor que 1, mas também está muito abaixo desse valor."
   ]
  },
  {
   "cell_type": "code",
   "execution_count": 33,
   "metadata": {},
   "outputs": [
    {
     "data": {
      "text/plain": [
       "0.7069945671266584"
      ]
     },
     "execution_count": 33,
     "metadata": {},
     "output_type": "execute_result"
    }
   ],
   "source": [
    "tabela3 = pd.crosstab(casa['Swimming Pool'],casa['Swimming Pool'])\n",
    "tabela4 = pd.crosstab(casa['Swimming Pool'],casa['Swimming Pool'], margins=True)\n",
    "#coeficiente de contingência\n",
    "(chi2_contingency(tabela3)[0]/(chi2_contingency(tabela3)[0]+tabela4['All']['All']))**0.5"
   ]
  },
  {
   "cell_type": "markdown",
   "metadata": {},
   "source": [
    "### Coeficiente de contingência *C* modificado\n",
    "\n",
    "Dada a inconveniência do coeficiente *C* é possível modificá-lo de duas formas.\n",
    "\n",
    "A primeira forma pode ser vista abaixo, onde *k* é o menor número entre o número de linhas e de colunas da tabela de contingência.\n",
    "\n",
    "$C^* = \\sqrt{\\dfrac{\\chi^2}{n + \\chi^2}} \\cdot \\sqrt{\\dfrac{min(k-1, r-1)}{min(k-1, r-1)-1}}$"
   ]
  },
  {
   "cell_type": "code",
   "execution_count": 41,
   "metadata": {},
   "outputs": [
    {
     "data": {
      "text/plain": [
       "0.9998413053546159"
      ]
     },
     "execution_count": 41,
     "metadata": {},
     "output_type": "execute_result"
    }
   ],
   "source": [
    "k=2\n",
    "r=2\n",
    "((chi2_contingency(tabela3)[0]/(chi2_contingency(tabela3)[0]+tabela4['All']['All']))**0.5)*((k/(k-1))**0.5)"
   ]
  },
  {
   "cell_type": "markdown",
   "metadata": {},
   "source": [
    "Com a modificação o valor ainda é menor que 1 (associação perfeita), porém está bem mais próximo de 1.\n",
    "\n",
    "A segunda forma é descrita por *Morettin & Bussab* (2010) onde o coeficiente é chamado de **T** e sua fórmula de cálculo é descrita abaixo\n",
    "\n",
    "$T = \\sqrt{\\dfrac{\\chi^2/n}{(k-1) \\cdot (r-1)}}$\n",
    "\n",
    "Onde *k* e *r* são o número de colunas e linhas da tabela de contingência.\n",
    "\n",
    "E conforme abaixo ficou bem próximo de 1 e um pouco diferente do resultado anterior."
   ]
  },
  {
   "cell_type": "code",
   "execution_count": 50,
   "metadata": {},
   "outputs": [
    {
     "data": {
      "text/plain": [
       "0.9996826862372318"
      ]
     },
     "execution_count": 50,
     "metadata": {},
     "output_type": "execute_result"
    }
   ],
   "source": [
    "((chi2_contingency(tabela3)[0]/tabela4['All']['All'])/((k-1)*(r-1)))**0.5"
   ]
  },
  {
   "cell_type": "markdown",
   "metadata": {},
   "source": [
    "Calculando os coeficientes de contingência modificados para associação entre *Swimming Pool* e *New/Resale*.\n",
    "\n",
    "Para os dois resultados obtivemos uma associação fraca entre essas variáveis."
   ]
  },
  {
   "cell_type": "code",
   "execution_count": 49,
   "metadata": {},
   "outputs": [
    {
     "name": "stdout",
     "output_type": "stream",
     "text": [
      "0.3766006994814995\n",
      "0.2762728301702427\n"
     ]
    }
   ],
   "source": [
    "print(((chi2_contingency(tabela)[0]/(chi2_contingency(tabela)[0]+\n",
    "                               tabela2['All']['All']))**0.5)*((k/(k-1))**0.5))\n",
    "print(((chi2_contingency(tabela)[0]/tabela2['All']['All'])/((k-1)*(r-1)))**0.5)"
   ]
  },
  {
   "cell_type": "markdown",
   "metadata": {},
   "source": [
    "Outras **limitações** do coeficiente de contingência:\n",
    "\n",
    "- ele não pode ser comparado com nenhuma outra medida de associação, como os coeficientes de correlação (de *Pearson*, *Spearman* e *Kendall*).\n",
    "\n",
    "- é influenciado pelo número de linhas e de colunas da tabela de contingência."
   ]
  },
  {
   "cell_type": "markdown",
   "metadata": {},
   "source": [
    "## Coeficiente *V* de *Crámer*\n",
    "\n",
    "É uma alternativa ao coeficiente de contingência *C* que é dado pela fórmula abaixo\n",
    "\n",
    "$V = \\sqrt{\\dfrac{\\chi^2}{n \\cdot min(k-1, r-1)}}$\n",
    "\n",
    "A vantagem desse coeficiente é superar a inconveniência da influência do número de linhas e colunas sobre o cálculo da medida de associação.  O valor 0 corresponde a ausência de associação , valores próximos de zero correspondem a fraca associação e valores mais próximos de 1 correspondem a associaçãao mais forte.\n",
    "\n",
    "Calculando o coeficiente *V* de *Crámer*.\n"
   ]
  },
  {
   "cell_type": "code",
   "execution_count": 52,
   "metadata": {},
   "outputs": [
    {
     "data": {
      "text/plain": [
       "0.2762728301702427"
      ]
     },
     "execution_count": 52,
     "metadata": {},
     "output_type": "execute_result"
    }
   ],
   "source": [
    "((chi2_contingency(tabela)[0])/(tabela2['All']['All']*(k-1)))**0.5"
   ]
  },
  {
   "cell_type": "markdown",
   "metadata": {},
   "source": [
    "O valor do coeficiente *V* ficou bem próximo dos valores dos outros coeficientes calculados anteriormente, revelando uma associação fraca entre as duas variáveis."
   ]
  }
 ],
 "metadata": {
  "kernelspec": {
   "display_name": "Python 3",
   "language": "python",
   "name": "python3"
  },
  "language_info": {
   "codemirror_mode": {
    "name": "ipython",
    "version": 3
   },
   "file_extension": ".py",
   "mimetype": "text/x-python",
   "name": "python",
   "nbconvert_exporter": "python",
   "pygments_lexer": "ipython3",
   "version": "3.6.8"
  }
 },
 "nbformat": 4,
 "nbformat_minor": 2
}
