{
  "nbformat": 4,
  "nbformat_minor": 0,
  "metadata": {
    "colab": {
      "name": "Testes de correlação.ipynb",
      "provenance": [],
      "collapsed_sections": []
    },
    "kernelspec": {
      "name": "python3",
      "display_name": "Python 3"
    },
    "language_info": {
      "name": "python"
    }
  },
  "cells": [
    {
      "cell_type": "markdown",
      "metadata": {
        "id": "0FXx4Wp-d5Aq"
      },
      "source": [
        "# Testes de Correlação\n",
        "\n",
        "O que é correlação ?\n",
        "\n",
        "Na estatística é muito interessante saber como é o relacionamento ou a associação entre as variáveis que estão sendo estudadas. É comum encontrar variáveis com um relacionamento positivo (quando uma \"sobe\" a outra também \"sobe\"), relacionamento negativo (quando uma \"desce\" o outra \"sobe\") ou quando não há a existência de nenhum relacionamento. \n",
        "\n",
        "A correlação é uma medida de força de associação entre duas as variáveis, por isso o coeficiente de correlação varia entre -1 (correlação negativa perfeita) e +1 (correlação positiva perfeito). O valor 0 significa que não existe associação entre as variáveis.\n",
        "\n",
        "Principais tipos de correlação\n",
        "\n",
        "- Coeficiente de correlação de *Pearson*;\n",
        "\n",
        "- Coeficiente de correlação de *Spearman*;\n",
        "\n",
        "- Coeficiente de correlação de *Kendall*.\n",
        "\n",
        "Analisar a correlação é importante, principalmente, em problemas de regressão para saber quais variáveis possuem um melhor poder para explicar o comportamento médio da variável dependente (ou de interesse)\n",
        "\n",
        "Além da existência desses coeficientes, há teste de hipóteses para analisar se essas correlações são ou não estatisticamente diferentes de zero.\n"
      ]
    },
    {
      "cell_type": "markdown",
      "metadata": {
        "id": "-k3tKyXjFfyJ"
      },
      "source": [
        "### Interpretação do coeficiente de correlação\n",
        "\n",
        "|    Valor do coeficiente $\\rho$      | Interpretação  |\n",
        "|:--------:|:-----------:|\n",
        "| -1   | Correlação negativamente perfeita  | \n",
        "| ]-1 a -0.90   | Correlação negativa muito forte      |  \n",
        "| -0.89 a -0.70   | Correlação negativa forte      |  \n",
        "| -0.69 a -0.40  | Correlação negativa moderada  | \n",
        "| -0.39 a -0.20  | Correlação negativa fraca      |\n",
        "| -0.19 a 0.00[   | Correlação negativa muito fraca  |\n",
        "| 0.00   | Correlação nula ou inexistente  |\n",
        "|]0.00 a 0.19   | Correlação positiva muito fraca  | \n",
        "|0.20 a 0.39  | Correlação positiva fraca      |  \n",
        "|0.40 a 0.69  | Correlação positiva moderada  | \n",
        "|0.70 a 0.89  | Correlação positiva forte      |\n",
        "|0.90 a +1[  | Correlação positiva muito forte      |\n",
        "| +1  | Correlação positivamente perfeita   |"
      ]
    },
    {
      "cell_type": "code",
      "metadata": {
        "id": "kn0lbSMwd4IU"
      },
      "source": [
        "%load_ext rpy2.ipython"
      ],
      "execution_count": null,
      "outputs": []
    },
    {
      "cell_type": "code",
      "metadata": {
        "colab": {
          "base_uri": "https://localhost:8080/"
        },
        "id": "dXDpwnq1qSgE",
        "outputId": "92df55ac-b1b5-4261-91a8-20230b2fd6a9"
      },
      "source": [
        "pip install pingouin"
      ],
      "execution_count": null,
      "outputs": [
        {
          "output_type": "stream",
          "text": [
            "Collecting pingouin\n",
            "  Downloading pingouin-0.3.12.tar.gz (205 kB)\n",
            "\u001b[?25l\r\u001b[K     |█▋                              | 10 kB 23.0 MB/s eta 0:00:01\r\u001b[K     |███▏                            | 20 kB 29.9 MB/s eta 0:00:01\r\u001b[K     |████▉                           | 30 kB 36.0 MB/s eta 0:00:01\r\u001b[K     |██████▍                         | 40 kB 37.0 MB/s eta 0:00:01\r\u001b[K     |████████                        | 51 kB 36.8 MB/s eta 0:00:01\r\u001b[K     |█████████▋                      | 61 kB 35.8 MB/s eta 0:00:01\r\u001b[K     |███████████▏                    | 71 kB 31.8 MB/s eta 0:00:01\r\u001b[K     |████████████▉                   | 81 kB 32.0 MB/s eta 0:00:01\r\u001b[K     |██████████████▍                 | 92 kB 34.0 MB/s eta 0:00:01\r\u001b[K     |████████████████                | 102 kB 32.7 MB/s eta 0:00:01\r\u001b[K     |█████████████████▋              | 112 kB 32.7 MB/s eta 0:00:01\r\u001b[K     |███████████████████▏            | 122 kB 32.7 MB/s eta 0:00:01\r\u001b[K     |████████████████████▊           | 133 kB 32.7 MB/s eta 0:00:01\r\u001b[K     |██████████████████████▍         | 143 kB 32.7 MB/s eta 0:00:01\r\u001b[K     |████████████████████████        | 153 kB 32.7 MB/s eta 0:00:01\r\u001b[K     |█████████████████████████▋      | 163 kB 32.7 MB/s eta 0:00:01\r\u001b[K     |███████████████████████████▏    | 174 kB 32.7 MB/s eta 0:00:01\r\u001b[K     |████████████████████████████▊   | 184 kB 32.7 MB/s eta 0:00:01\r\u001b[K     |██████████████████████████████▍ | 194 kB 32.7 MB/s eta 0:00:01\r\u001b[K     |████████████████████████████████| 204 kB 32.7 MB/s eta 0:00:01\r\u001b[K     |████████████████████████████████| 205 kB 32.7 MB/s \n",
            "\u001b[?25hRequirement already satisfied: numpy>=1.15 in /usr/local/lib/python3.7/dist-packages (from pingouin) (1.19.5)\n",
            "Requirement already satisfied: scipy>=1.3 in /usr/local/lib/python3.7/dist-packages (from pingouin) (1.4.1)\n",
            "Requirement already satisfied: pandas>=0.24 in /usr/local/lib/python3.7/dist-packages (from pingouin) (1.1.5)\n",
            "Requirement already satisfied: matplotlib>=3.0.2 in /usr/local/lib/python3.7/dist-packages (from pingouin) (3.2.2)\n",
            "Requirement already satisfied: seaborn>=0.9.0 in /usr/local/lib/python3.7/dist-packages (from pingouin) (0.11.1)\n",
            "Requirement already satisfied: statsmodels>=0.10.0 in /usr/local/lib/python3.7/dist-packages (from pingouin) (0.10.2)\n",
            "Requirement already satisfied: scikit-learn in /usr/local/lib/python3.7/dist-packages (from pingouin) (0.22.2.post1)\n",
            "Collecting pandas_flavor>=0.1.2\n",
            "  Downloading pandas_flavor-0.2.0-py2.py3-none-any.whl (6.6 kB)\n",
            "Collecting outdated\n",
            "  Downloading outdated-0.2.1-py3-none-any.whl (7.5 kB)\n",
            "Requirement already satisfied: tabulate in /usr/local/lib/python3.7/dist-packages (from pingouin) (0.8.9)\n",
            "Requirement already satisfied: cycler>=0.10 in /usr/local/lib/python3.7/dist-packages (from matplotlib>=3.0.2->pingouin) (0.10.0)\n",
            "Requirement already satisfied: kiwisolver>=1.0.1 in /usr/local/lib/python3.7/dist-packages (from matplotlib>=3.0.2->pingouin) (1.3.1)\n",
            "Requirement already satisfied: pyparsing!=2.0.4,!=2.1.2,!=2.1.6,>=2.0.1 in /usr/local/lib/python3.7/dist-packages (from matplotlib>=3.0.2->pingouin) (2.4.7)\n",
            "Requirement already satisfied: python-dateutil>=2.1 in /usr/local/lib/python3.7/dist-packages (from matplotlib>=3.0.2->pingouin) (2.8.1)\n",
            "Requirement already satisfied: six in /usr/local/lib/python3.7/dist-packages (from cycler>=0.10->matplotlib>=3.0.2->pingouin) (1.15.0)\n",
            "Requirement already satisfied: pytz>=2017.2 in /usr/local/lib/python3.7/dist-packages (from pandas>=0.24->pingouin) (2018.9)\n",
            "Requirement already satisfied: xarray in /usr/local/lib/python3.7/dist-packages (from pandas_flavor>=0.1.2->pingouin) (0.18.2)\n",
            "Requirement already satisfied: patsy>=0.4.0 in /usr/local/lib/python3.7/dist-packages (from statsmodels>=0.10.0->pingouin) (0.5.1)\n",
            "Requirement already satisfied: requests in /usr/local/lib/python3.7/dist-packages (from outdated->pingouin) (2.23.0)\n",
            "Collecting littleutils\n",
            "  Downloading littleutils-0.2.2.tar.gz (6.6 kB)\n",
            "Requirement already satisfied: idna<3,>=2.5 in /usr/local/lib/python3.7/dist-packages (from requests->outdated->pingouin) (2.10)\n",
            "Requirement already satisfied: urllib3!=1.25.0,!=1.25.1,<1.26,>=1.21.1 in /usr/local/lib/python3.7/dist-packages (from requests->outdated->pingouin) (1.24.3)\n",
            "Requirement already satisfied: chardet<4,>=3.0.2 in /usr/local/lib/python3.7/dist-packages (from requests->outdated->pingouin) (3.0.4)\n",
            "Requirement already satisfied: certifi>=2017.4.17 in /usr/local/lib/python3.7/dist-packages (from requests->outdated->pingouin) (2021.5.30)\n",
            "Requirement already satisfied: joblib>=0.11 in /usr/local/lib/python3.7/dist-packages (from scikit-learn->pingouin) (1.0.1)\n",
            "Requirement already satisfied: setuptools>=40.4 in /usr/local/lib/python3.7/dist-packages (from xarray->pandas_flavor>=0.1.2->pingouin) (57.2.0)\n",
            "Building wheels for collected packages: pingouin, littleutils\n",
            "  Building wheel for pingouin (setup.py) ... \u001b[?25l\u001b[?25hdone\n",
            "  Created wheel for pingouin: filename=pingouin-0.3.12-py3-none-any.whl size=204754 sha256=6e2de6c5e8f0f3cb447d51e90248f44ecc6d25e302a30aff521cdc54d4092069\n",
            "  Stored in directory: /root/.cache/pip/wheels/5b/8a/ed/fafe2714a0f047d64fb582105b174b5e5218c82a0d787bbec4\n",
            "  Building wheel for littleutils (setup.py) ... \u001b[?25l\u001b[?25hdone\n",
            "  Created wheel for littleutils: filename=littleutils-0.2.2-py3-none-any.whl size=7048 sha256=ba904deff397e991a049d60a9d92a787cc639ecba0a2547af2da98259c261c89\n",
            "  Stored in directory: /root/.cache/pip/wheels/d6/64/cd/32819b511a488e4993f2fab909a95330289c3f4e0f6ef4676d\n",
            "Successfully built pingouin littleutils\n",
            "Installing collected packages: littleutils, pandas-flavor, outdated, pingouin\n",
            "Successfully installed littleutils-0.2.2 outdated-0.2.1 pandas-flavor-0.2.0 pingouin-0.3.12\n"
          ],
          "name": "stdout"
        }
      ]
    },
    {
      "cell_type": "code",
      "metadata": {
        "id": "EuwmEbrZd4NO"
      },
      "source": [
        "import pandas as pd\n",
        "from scipy import stats\n",
        "import pingouin as pg"
      ],
      "execution_count": null,
      "outputs": []
    },
    {
      "cell_type": "markdown",
      "metadata": {
        "id": "rZLi-5ZlhaN1"
      },
      "source": [
        "## Importando os dados"
      ]
    },
    {
      "cell_type": "code",
      "metadata": {
        "id": "TJaRpSpJfpFy"
      },
      "source": [
        "%%R\n",
        "\n",
        "casa = read.csv('Mumbai1.csv')"
      ],
      "execution_count": null,
      "outputs": []
    },
    {
      "cell_type": "code",
      "metadata": {
        "id": "K-J-8YkOd4PL"
      },
      "source": [
        "casa = pd.read_csv('Mumbai1.csv')"
      ],
      "execution_count": null,
      "outputs": []
    },
    {
      "cell_type": "markdown",
      "metadata": {
        "id": "In-t8gNEygH5"
      },
      "source": [
        "Antes de realizar os teste é interessante analisar os graficamente os dados."
      ]
    },
    {
      "cell_type": "code",
      "metadata": {
        "colab": {
          "base_uri": "https://localhost:8080/",
          "height": 278
        },
        "id": "8lo-CxevygTC",
        "outputId": "f7e7a284-7b83-4d37-d8c6-cdc709b53fc5"
      },
      "source": [
        "casa.plot.scatter(x='Price',y='Area');"
      ],
      "execution_count": null,
      "outputs": [
        {
          "output_type": "display_data",
          "data": {
            "image/png": "[encoded data removed]",
            "text/plain": [
              "<Figure size 432x288 with 1 Axes>"
            ]
          },
          "metadata": {
            "tags": [],
            "needs_background": "light"
          }
        }
      ]
    },
    {
      "cell_type": "markdown",
      "metadata": {
        "id": "moWI-tsygmij"
      },
      "source": [
        "## Teste do coeficiente de correlação de *Pearson*\n",
        "\n",
        "O coeficiente de *Pearson* é a medida estatística mais usada para obter a associação entre duas variáveis linearmente relacionadas. \n",
        "\n",
        "A sua fórmula é dada por:\n",
        "\n",
        "$\\rho = \\dfrac{Cov(x,y)}{S_x S_y}= \\dfrac{\\sum(x_i - \\overline{x})(y_i - \\overline{y})}{\\sqrt{\\sum(x_i - \\overline{x})^2 \\sum(y_i - \\overline{y})^2}}$\n",
        "\n",
        "Onde,\n",
        "\n",
        "- $Cov(x,y)$ é a covariância entre as variáveis;\n",
        "- $S_x$ e $S_y$ são, respectivamente, o desvio-padrão de $x$ e o desvio-padrão de $y$;\n",
        "- $x_i$ é o valor de $x$ para cada $i$;\n",
        "- $y_i$ é o valor de $y$ para cada $i$;\n",
        "- $\\overline{x}$ é a média de $x$;\n",
        "- $\\overline{y}$ é a média de $y$;\n",
        "\n",
        "### **O teste**\n",
        "\n",
        "O teste aplicado e assume que os valores de $x$ e $y$ originam-se de uma distribuição normal e que a relação é linear. A estatística do teste é dada pela fórmula abaixo\n",
        "\n",
        "$t = \\dfrac{\\rho}{\\sqrt{1 - \\rho^2}} \\cdot \\sqrt{n-2}$\n",
        "\n",
        "Onde,\n",
        "\n",
        "- $n$ é o número de observações;\n",
        "- e $\\rho$ o valor da correlação.\n",
        "\n",
        "segue uma distribuição *t-student* com *n-2* graus de liberdade.\n",
        "\n",
        "A **hipótese nula**($H_0$) do teste é que a correlação entre as variáveis é estatisticamente igual a zero. Para rejeitar a hipótese nula a estatística do teste deve ser maior que o valor encontrado na tabela *t-student* dado o nível de significância.\n"
      ]
    },
    {
      "cell_type": "markdown",
      "metadata": {
        "id": "XbA_at6c4mC8"
      },
      "source": [
        "**Calculando o teste de correlação de *Pearson* no *R*.**"
      ]
    },
    {
      "cell_type": "code",
      "metadata": {
        "colab": {
          "base_uri": "https://localhost:8080/"
        },
        "id": "jmxYCifSd4K9",
        "outputId": "d97e66da-6f4c-4862-d5e3-54905deccfe5"
      },
      "source": [
        "%%R\n",
        "\n",
        "cor.test(casa$Price,casa$Area,method=\"pearson\",alternative=\"two.sided\",conf.level = 0.95)"
      ],
      "execution_count": null,
      "outputs": [
        {
          "output_type": "stream",
          "text": [
            "\n",
            "\tPearson's product-moment correlation\n",
            "\n",
            "data:  casa$Price and casa$Area\n",
            "t = 83.202, df = 6345, p-value < 2.2e-16\n",
            "alternative hypothesis: true correlation is not equal to 0\n",
            "95 percent confidence interval:\n",
            " 0.7103573 0.7338960\n",
            "sample estimates:\n",
            "      cor \n",
            "0.7223358 \n",
            "\n"
          ],
          "name": "stdout"
        }
      ]
    },
    {
      "cell_type": "markdown",
      "metadata": {
        "id": "3S1Ew13K4rv8"
      },
      "source": [
        "**Calculando o teste de correlação de *Pearson* em *Python*.**"
      ]
    },
    {
      "cell_type": "code",
      "metadata": {
        "colab": {
          "base_uri": "https://localhost:8080/"
        },
        "id": "3gWYPMuHd4Q5",
        "outputId": "f4aa4f25-f5db-4f97-d4b7-cc5a301a3c72"
      },
      "source": [
        "#com a biblioteca Scipy\n",
        "stats.pearsonr(casa['Price'], casa['Area'])"
      ],
      "execution_count": null,
      "outputs": [
        {
          "output_type": "execute_result",
          "data": {
            "text/plain": [
              "(0.7223358040503131, 0.0)"
            ]
          },
          "metadata": {
            "tags": []
          },
          "execution_count": 13
        }
      ]
    },
    {
      "cell_type": "code",
      "metadata": {
        "colab": {
          "base_uri": "https://localhost:8080/",
          "height": 78
        },
        "id": "kFp6O-u4sM5L",
        "outputId": "0f6e02ca-5b1b-4c1c-92a0-6b036143ef97"
      },
      "source": [
        "#Com a biblioteca Pigouin\n",
        "casa.iloc[:,1:3].pairwise_corr()"
      ],
      "execution_count": null,
      "outputs": [
        {
          "output_type": "execute_result",
          "data": {
            "text/html": [
              "<div>\n",
              "<style scoped>\n",
              "    .dataframe tbody tr th:only-of-type {\n",
              "        vertical-align: middle;\n",
              "    }\n",
              "\n",
              "    .dataframe tbody tr th {\n",
              "        vertical-align: top;\n",
              "    }\n",
              "\n",
              "    .dataframe thead th {\n",
              "        text-align: right;\n",
              "    }\n",
              "</style>\n",
              "<table border=\"1\" class=\"dataframe\">\n",
              "  <thead>\n",
              "    <tr style=\"text-align: right;\">\n",
              "      <th></th>\n",
              "      <th>X</th>\n",
              "      <th>Y</th>\n",
              "      <th>method</th>\n",
              "      <th>tail</th>\n",
              "      <th>n</th>\n",
              "      <th>r</th>\n",
              "      <th>CI95%</th>\n",
              "      <th>p-unc</th>\n",
              "      <th>BF10</th>\n",
              "      <th>power</th>\n",
              "    </tr>\n",
              "  </thead>\n",
              "  <tbody>\n",
              "    <tr>\n",
              "      <th>0</th>\n",
              "      <td>Price</td>\n",
              "      <td>Area</td>\n",
              "      <td>pearson</td>\n",
              "      <td>two-sided</td>\n",
              "      <td>6347</td>\n",
              "      <td>0.722336</td>\n",
              "      <td>[0.71, 0.73]</td>\n",
              "      <td>0.0</td>\n",
              "      <td>inf</td>\n",
              "      <td>1.0</td>\n",
              "    </tr>\n",
              "  </tbody>\n",
              "</table>\n",
              "</div>"
            ],
            "text/plain": [
              "       X     Y   method       tail  ...         CI95%  p-unc BF10  power\n",
              "0  Price  Area  pearson  two-sided  ...  [0.71, 0.73]    0.0  inf    1.0\n",
              "\n",
              "[1 rows x 10 columns]"
            ]
          },
          "metadata": {
            "tags": []
          },
          "execution_count": 31
        }
      ]
    },
    {
      "cell_type": "markdown",
      "metadata": {
        "id": "R6-jvl2p8K2g"
      },
      "source": [
        "### Resultado do teste\n",
        "\n",
        "O valor da correlação entre o Preço das casas e a área foi de 0.722 (arredondado) e o *p-valor* calculado ficou abaixo de 0.05 (nível de significância padrão). Dessa forma, rejeitamos a hipótese nula (correlação estatisticamente igual a zero). "
      ]
    },
    {
      "cell_type": "markdown",
      "metadata": {
        "id": "KzC5O4wWhc71"
      },
      "source": [
        "## Teste do coeficiente de correlação de *Spearman*\n",
        "\n",
        "A correlação de *Spearman* é semelhante a correlação de *Pearson*, mas com a diferença de que a correlação de *Spearman* avalia a relação monótona (linear e não linear) entre duas variáveis.\n",
        "\n",
        "A fórmula da correlação de *Spearman* é dada abaixo:\n",
        "\n",
        "$\\rho = 1 - \\dfrac{6\\sum_{i=1}^{n} d_i^2}{n(n^2-1)}$\n",
        "\n",
        "Onde,\n",
        "\n",
        "- $n$ é o número de observações;\n",
        "- $d_i$ é a diferença entre o posto de $x_i$ e $y_i$ (ou $R$($x_i$) - $R$($y_i$)).\n",
        "\n",
        "**O teste**\n",
        "\n",
        "Testa se a correlação de *Spearman* entre as variáveis é estatisticamente igual a zero. É assumido que as distribuições dos dados são contínuas e que os dados foram obtidos aos pares.\n",
        "\n",
        "A estatística do teste é dada por\n",
        "\n",
        "$Z = \\dfrac{6R - n(n^2-1)}{n(n+1)\\sqrt{n-1}}$\n",
        "\n",
        "Onde $R = \\sum_{i=1}^{n} d_i^2$.\n",
        "\n",
        "Se a estatística de teste for menor que os valores críticos obtidos para o teste, então aceita-se a hipótese nula. Caso contrário, rejeita-se a hipótese nula.\n",
        "\n",
        "**Calculando o teste de correlação de *Spearman* no *R*.**\n"
      ]
    },
    {
      "cell_type": "code",
      "metadata": {
        "colab": {
          "base_uri": "https://localhost:8080/"
        },
        "id": "ZkfVPRe2his4",
        "outputId": "21b91502-6055-45d7-d213-a2a694c133ea"
      },
      "source": [
        "%%R\n",
        "\n",
        "cor.test(casa$Price,casa$Area,method=\"spearman\",alternative=\"two.sided\",conf.level = 0.95)"
      ],
      "execution_count": null,
      "outputs": [
        {
          "output_type": "stream",
          "text": [
            "\n",
            "\tSpearman's rank correlation rho\n",
            "\n",
            "data:  casa$Price and casa$Area\n",
            "S = 1.2676e+10, p-value < 2.2e-16\n",
            "alternative hypothesis: true rho is not equal to 0\n",
            "sample estimates:\n",
            "      rho \n",
            "0.7025346 \n",
            "\n"
          ],
          "name": "stdout"
        }
      ]
    },
    {
      "cell_type": "markdown",
      "metadata": {
        "id": "epD3CbrUBXYo"
      },
      "source": [
        "**Calculando o teste de correlação de *Spearman* em *Python*.**"
      ]
    },
    {
      "cell_type": "code",
      "metadata": {
        "colab": {
          "base_uri": "https://localhost:8080/"
        },
        "id": "-PDen0Dtd4Uh",
        "outputId": "49216e87-d6d4-4323-a136-5e0cad232ebf"
      },
      "source": [
        "#com a biblioteca Scipy\n",
        "stats.spearmanr(casa['Price'], casa['Area'])"
      ],
      "execution_count": null,
      "outputs": [
        {
          "output_type": "execute_result",
          "data": {
            "text/plain": [
              "SpearmanrResult(correlation=0.7025346151453671, pvalue=0.0)"
            ]
          },
          "metadata": {
            "tags": []
          },
          "execution_count": 14
        }
      ]
    },
    {
      "cell_type": "code",
      "metadata": {
        "colab": {
          "base_uri": "https://localhost:8080/",
          "height": 78
        },
        "id": "nw2DuQZZsD5W",
        "outputId": "1246ac27-28c1-40f2-eff7-1b4620b9698e"
      },
      "source": [
        "#Com a biblioteca Pigouin\n",
        "casa.iloc[:,1:3].pairwise_corr(method='spearman')"
      ],
      "execution_count": null,
      "outputs": [
        {
          "output_type": "execute_result",
          "data": {
            "text/html": [
              "<div>\n",
              "<style scoped>\n",
              "    .dataframe tbody tr th:only-of-type {\n",
              "        vertical-align: middle;\n",
              "    }\n",
              "\n",
              "    .dataframe tbody tr th {\n",
              "        vertical-align: top;\n",
              "    }\n",
              "\n",
              "    .dataframe thead th {\n",
              "        text-align: right;\n",
              "    }\n",
              "</style>\n",
              "<table border=\"1\" class=\"dataframe\">\n",
              "  <thead>\n",
              "    <tr style=\"text-align: right;\">\n",
              "      <th></th>\n",
              "      <th>X</th>\n",
              "      <th>Y</th>\n",
              "      <th>method</th>\n",
              "      <th>tail</th>\n",
              "      <th>n</th>\n",
              "      <th>r</th>\n",
              "      <th>CI95%</th>\n",
              "      <th>p-unc</th>\n",
              "      <th>power</th>\n",
              "    </tr>\n",
              "  </thead>\n",
              "  <tbody>\n",
              "    <tr>\n",
              "      <th>0</th>\n",
              "      <td>Price</td>\n",
              "      <td>Area</td>\n",
              "      <td>spearman</td>\n",
              "      <td>two-sided</td>\n",
              "      <td>6347</td>\n",
              "      <td>0.702535</td>\n",
              "      <td>[0.69, 0.71]</td>\n",
              "      <td>0.0</td>\n",
              "      <td>1.0</td>\n",
              "    </tr>\n",
              "  </tbody>\n",
              "</table>\n",
              "</div>"
            ],
            "text/plain": [
              "       X     Y    method       tail     n         r         CI95%  p-unc  power\n",
              "0  Price  Area  spearman  two-sided  6347  0.702535  [0.69, 0.71]    0.0    1.0"
            ]
          },
          "metadata": {
            "tags": []
          },
          "execution_count": 29
        }
      ]
    },
    {
      "cell_type": "markdown",
      "metadata": {
        "id": "JAM60bAkBmgQ"
      },
      "source": [
        "### Resultado do teste\n",
        "\n",
        "O valor da correlação entre o Preço das casas e a área foi de 0.7025 (arredondado) e o *p-valor* calculado ficou abaixo de 0.05 (nível de significância padrão). Dessa forma, rejeitamos a hipótese nula (correlação estatisticamente igual a zero). "
      ]
    },
    {
      "cell_type": "markdown",
      "metadata": {
        "id": "b_KRfQ1Oi8ES"
      },
      "source": [
        "## Teste do coeficiente de correlação de *Kendall*\n",
        "\n",
        "A correlação de *Kendall* mede a associação ordinal entre duas variáveis, porém irei usar os dados anteriormente usados (Preço e área das casas).\n",
        "\n",
        "A coeficiente de *Kendall* é dado abaixo:\n",
        "\n",
        "$\\tau = \\dfrac{2(n_c - n_d)}{n(n-1)}$\n",
        "\n",
        "Onde,\n",
        "\n",
        "- $n$ é o número de observações;\n",
        "- $n_c$ é o número de observações concordantes (observações cujos valores de $x_i < x_j$ e $y_i < y_j$ \n",
        "\n",
        "(ou caso de serem juntamente $x_i > x_j$ e $y_i > y_j$);\n",
        "- $n_d$ é o número de observações discordantes (se não seguir a regra anterior).\n",
        "\n",
        "**O teste**\n",
        "\n",
        "O teste, assim como os de *Pearson* e *Spearman*, testa se a correlação é estatisticamente igual a zero. Assim como no teste de *Spearman* os dados devem ter uam distribuição contíbua e os dados devem ser obtidos em pares.\n",
        "\n",
        "A estatística do teste segue uma distribuição normal e é dada abaixo\n",
        "\n",
        "$Z = \\dfrac{n_c - n_d}{\\sqrt{\\frac{n(n-1)(2n+5)}{18}}}$\n",
        "\n",
        "Se o valor da estatística estiver dentro da região definida pelos valores críticos, aceita-se a hipótese nula de que a correlação é estatisticamente igual a zero; caso contrário, rejeita-se a hipótese nula.\n",
        "\n",
        "**Calculando o teste de correlação de *Kendall* em *R*.**"
      ]
    },
    {
      "cell_type": "code",
      "metadata": {
        "colab": {
          "base_uri": "https://localhost:8080/"
        },
        "id": "bIM_UdfEd4Sb",
        "outputId": "eebe6b94-92bd-4db1-f880-3225cf12f2b4"
      },
      "source": [
        "%%R\n",
        "\n",
        "cor.test(casa$Price,casa$Area,method=\"kendall\",alternative=\"two.sided\",conf.level = 0.95)"
      ],
      "execution_count": null,
      "outputs": [
        {
          "output_type": "stream",
          "text": [
            "\n",
            "\tKendall's rank correlation tau\n",
            "\n",
            "data:  casa$Price and casa$Area\n",
            "z = 60.752, p-value < 2.2e-16\n",
            "alternative hypothesis: true tau is not equal to 0\n",
            "sample estimates:\n",
            "      tau \n",
            "0.5116383 \n",
            "\n"
          ],
          "name": "stdout"
        }
      ]
    },
    {
      "cell_type": "markdown",
      "metadata": {
        "id": "-V6FMFbeQxDy"
      },
      "source": [
        "**Calculando o teste de correlação de *Kendall* em *Python*.**\n",
        "\n",
        "---\n",
        "\n"
      ]
    },
    {
      "cell_type": "code",
      "metadata": {
        "colab": {
          "base_uri": "https://localhost:8080/"
        },
        "id": "ZnmQ7uK8hWIF",
        "outputId": "8656cf55-9963-4300-a03d-e31ed035d01e"
      },
      "source": [
        "#com a biblioteca Scipy\n",
        "stats.kendalltau(casa['Price'], casa['Area'])"
      ],
      "execution_count": null,
      "outputs": [
        {
          "output_type": "execute_result",
          "data": {
            "text/plain": [
              "KendalltauResult(correlation=0.5116383130327385, pvalue=0.0)"
            ]
          },
          "metadata": {
            "tags": []
          },
          "execution_count": 16
        }
      ]
    },
    {
      "cell_type": "code",
      "metadata": {
        "id": "Hso2CxZMGZsi",
        "colab": {
          "base_uri": "https://localhost:8080/",
          "height": 78
        },
        "outputId": "731d946c-b059-4d0d-85b1-b3031acbd3c2"
      },
      "source": [
        "#Com a biblioteca Pingouin\n",
        "casa.iloc[:,1:3].pairwise_corr(method='kendall')"
      ],
      "execution_count": null,
      "outputs": [
        {
          "output_type": "execute_result",
          "data": {
            "text/html": [
              "<div>\n",
              "<style scoped>\n",
              "    .dataframe tbody tr th:only-of-type {\n",
              "        vertical-align: middle;\n",
              "    }\n",
              "\n",
              "    .dataframe tbody tr th {\n",
              "        vertical-align: top;\n",
              "    }\n",
              "\n",
              "    .dataframe thead th {\n",
              "        text-align: right;\n",
              "    }\n",
              "</style>\n",
              "<table border=\"1\" class=\"dataframe\">\n",
              "  <thead>\n",
              "    <tr style=\"text-align: right;\">\n",
              "      <th></th>\n",
              "      <th>X</th>\n",
              "      <th>Y</th>\n",
              "      <th>method</th>\n",
              "      <th>tail</th>\n",
              "      <th>n</th>\n",
              "      <th>r</th>\n",
              "      <th>CI95%</th>\n",
              "      <th>p-unc</th>\n",
              "      <th>power</th>\n",
              "    </tr>\n",
              "  </thead>\n",
              "  <tbody>\n",
              "    <tr>\n",
              "      <th>0</th>\n",
              "      <td>Price</td>\n",
              "      <td>Area</td>\n",
              "      <td>kendall</td>\n",
              "      <td>two-sided</td>\n",
              "      <td>6347</td>\n",
              "      <td>0.511638</td>\n",
              "      <td>[0.49, 0.53]</td>\n",
              "      <td>0.0</td>\n",
              "      <td>1.0</td>\n",
              "    </tr>\n",
              "  </tbody>\n",
              "</table>\n",
              "</div>"
            ],
            "text/plain": [
              "       X     Y   method       tail     n         r         CI95%  p-unc  power\n",
              "0  Price  Area  kendall  two-sided  6347  0.511638  [0.49, 0.53]    0.0    1.0"
            ]
          },
          "metadata": {
            "tags": []
          },
          "execution_count": 43
        }
      ]
    },
    {
      "cell_type": "markdown",
      "metadata": {
        "id": "4_BL7EzjRCuG"
      },
      "source": [
        "### Resultado do teste\n",
        "\n",
        "O valor da correlação entre o Preço das casas e a área foi de 0.5116 (arredondado) e o *p-valor* calculado ficou abaixo de 0.05 (nível de significância padrão). Dessa forma, rejeitamos a hipótese nula (correlação estatisticamente igual a zero). "
      ]
    }
  ]
}