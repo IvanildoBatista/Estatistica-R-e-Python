{
  "nbformat": 4,
  "nbformat_minor": 0,
  "metadata": {
    "colab": {
      "name": "Teste Z de igualdade de médias.ipynb",
      "provenance": []
    },
    "kernelspec": {
      "name": "python3",
      "display_name": "Python 3"
    },
    "language_info": {
      "name": "python"
    }
  },
  "cells": [
    {
      "cell_type": "markdown",
      "source": [
        "# Teste *Z* para uma média populacional (variância conhecida)\n",
        "\n",
        "Investigar a significância da diferença entre uma média populacional assumida\n",
        "$\\mu_0$ e uma média amostral $\\overline{x}$.\n",
        "\n",
        "## Limitações\n",
        "\n",
        "1. É necessário que a variância populacional $\\sigma^2$ seja conhecida. Se $\\sigma^2$ não for conhecido, veja o teste $t$ para uma média populacional.\n",
        "\n",
        "2. O teste é preciso se a população tiver distribuição normal. Se a população não normal, o teste ainda fornecerá um guia aproximado. \n",
        "\n",
        "## Método\n",
        "De uma população com média assumida $\\mu_0$ e variância conhecida $\\sigma^2$, uma amostra aleatória de tamanho $n$ é tomada e a média amostral $x$ é calculada. A estatística do teste\n",
        "\n",
        "$$ Z = \\dfrac{\\overline{x} - \\mu_0}{\\sigma/\\sqrt{n}}$$\n",
        "\n",
        "pode ser comparado com a distribuição normal padrão usando um teste uni ou bicaudal, com região crítica de tamanho $\\alpha$.\n",
        "\n",
        "## Hipóteses \n",
        "\n",
        "A hipótese nula do teste é que a média amostral é igual a média populacional. Já a hipótese alternativa é que essas médias são diferentes. Logo,\n",
        "\n",
        "$$ H_0 : \\overline{x} = \\mu_0  $$\n",
        "\n",
        "$$ H_1 : \\overline{x} \\neq \\mu_0  $$\n",
        "\n",
        "### Exemplo\n",
        "\n",
        "(Exemplo 12.2 - Estatística Básica Bussab e Moretin) Uma máquina automática para encher pacotes de café enche-os segundo uma distribuição normal, com média $\\mu$ e variância sempre igual a 400 $g^2$. A máquina foi regulada para $\\mu$ = 500 g. Desejamos, periodicamente, colher uma amostra de 16 pacotes e verificar se a produção está sob controle, isto é, se $\\mu$ = 500 g ou não. Se uma dessas amostras apresentasse uma média $\\overline{x}$ = 492 g, você pararia ou não a produção para regular a máquina?\n",
        "\n",
        "**Resolução**\n",
        "\n",
        "1) A Média populacional é igual a 500 g e a amostral a 492 g.\n",
        "\n",
        "2) variância é igual a $400/16 = 25$ e desvio padrão igual a $5$.\n",
        "\n",
        "Então o peso dos pacotes de café seguem uma distribuição com $X \\sim N(500,25)$.\n",
        "\n",
        "Eu quero que a média seja estatisticamente igual a 500 g. será que 492 g é estatisticamente igual a 500 g ? Usaremos a fórmula anterior para calcular o valor da estatística $Z$, conforme a seguir\n",
        "\n",
        "$$ Z = \\dfrac{492 - 500}{5} = -\\dfrac{8}{5} = -1.6$$\n",
        "\n",
        "Para um teste de igualdade o teste é bilateral, então com o $\\alpha$ igual a 5% (2.5% para cada cauda da distribuição) temos que $Z$ deve ficar entre $-1.96$ e $1.96$ ou $-1.96 \\leq Z \\leq +1.96$. Para que a hipótese nula de igualdade das médias seja aceita o valor $Z$ encontrado deve estar dentro do nosso intervalo.  Como o valor de $-1.6$ fica dentro do intervalo que criamos, podemos considerar que a **hipótese nula não pode ser rejeitada**. **Logo as médias são estatisticamente iguais.**\n",
        "\n",
        "Outra forma seria criar um intervalo para saber se o valor $492$ está dentro desse intervalo\n",
        "\n",
        "$$ -1.96 = \\dfrac{x - 500}{5} = x - 500 = -9.8 \\rightarrow x = 490.2 $$\n",
        "\n",
        "$$ 1.96 = \\dfrac{x - 500}{5} = x - 500 = 9.8 \\rightarrow x = 509.8 $$\n",
        "\n",
        "Temos um intervalo em que $490.2 \\leq x \\leq 509.8$. Como o valor de 492 fica dentro desse intervalo temos que **médias populacional e amostral são estatisticamente iguais**.\n",
        "\n",
        "## Usando *Python* para realizar o teste\n",
        "\n",
        "Importando as bibliotecas."
      ],
      "metadata": {
        "id": "x7Rp7c6aJZt4"
      }
    },
    {
      "cell_type": "code",
      "source": [
        "import scipy.stats as st\n",
        "import numpy as np"
      ],
      "metadata": {
        "id": "FODLKCrkcmAW"
      },
      "execution_count": 1,
      "outputs": []
    },
    {
      "cell_type": "markdown",
      "source": [
        "Criando uma função para gerar os resultados do teste para médias."
      ],
      "metadata": {
        "id": "5BxjAFIzZuuM"
      }
    },
    {
      "cell_type": "code",
      "source": [
        "def z_teste(media_populacional, media_amostral, variancia_amostral, n, nivel_confianca):\n",
        "  desvio_padrao = np.sqrt(variancia_amostral/n) #Calculando o desvio padrão da amostra.\n",
        "  z = (np.abs(media_populacional - media_amostral))/desvio_padrao #calculando o valor de z.\n",
        "  z_critico = st.norm.ppf(1-(1-nivel_confianca)/2) #calculando os valores críticos.\n",
        "  valor_critico1 = (-z_critico*desvio_padrao)+media_populacional #valor crítico inferior para a média.\n",
        "  valor_critico2 = (z_critico*desvio_padrao)+media_populacional #valor crítico superior para a média.\n",
        "  pvalor = st.norm.sf(abs(z))*2 #cálculo do p-valor\n",
        "\n",
        "  if z >= -z_critico and z <= z_critico:\n",
        "    print('A média amostral é estatisticamente igual a média populacional : Não rejeita-se a hipótese nula.')\n",
        "    print('O valor Z (%4.2f) está dentro do intervalo [%5.2f,%5.2f].' %(z, -z_critico, +z_critico))\n",
        "    print('O valor da média amostral %5.2f está dentro do intervalo [%5.2f, %5.2f] a um nível de confiança de %d%%.' %(media_amostral, valor_critico1, valor_critico2, nivel_confianca*100))\n",
        "    print('p-valor do teste : %5.4f.' %(pvalor))\n",
        "  else:\n",
        "    print('A média amostral não é estatisticamente igual a média populacional : Rejeita-se a hipótese nula.')\n",
        "    print('O valor Z (%4.2f) está fora do intervalo [%5.2f,%5.2f].' %(z, -z_critico, +z_critico))\n",
        "    print('O valor da média amostral %5.2f está fora do intervalo [%5.2f, %5.2f] a um nível de confiança de %d%%.' %(media_amostral, valor_critico1, valor_critico2, nivel_confianca*100))\n",
        "    print('p-valor do teste : %5.4f.' %(pvalor))"
      ],
      "metadata": {
        "id": "38uMNmPGQOa0"
      },
      "execution_count": 32,
      "outputs": []
    },
    {
      "cell_type": "markdown",
      "source": [
        "Aplicando a função."
      ],
      "metadata": {
        "id": "u3UvUTzVZ2Wx"
      }
    },
    {
      "cell_type": "code",
      "source": [
        "z_teste(500,492,400,16,.99)"
      ],
      "metadata": {
        "colab": {
          "base_uri": "https://localhost:8080/"
        },
        "id": "jyz7W-QUO55d",
        "outputId": "bd9a0b2b-1d19-4bfe-b14a-59a279f7e6cc"
      },
      "execution_count": 33,
      "outputs": [
        {
          "output_type": "stream",
          "name": "stdout",
          "text": [
            "A média amostral é estatisticamente igual a média populacional : Não rejeita-se a hipótese nula.\n",
            "O valor Z (1.60) está dentro do intervalo [-2.58, 2.58].\n",
            "O valor da média amostral 492.00 está dentro do intervalo [487.12, 512.88] a um nível de confiança de 99%.\n",
            "p-valor do teste : 0.1096.\n"
          ]
        }
      ]
    },
    {
      "cell_type": "markdown",
      "source": [
        "Sabe-se que o consumo mensal per capita de um determinado produto tem distribuição normal, com desvio padrão $2$ $kg$. A diretoria de uma firma que fabrica esse produto resolveu que retiraria o produto da linha de produção se a média de consumo per capita fosse menor que $8$ $kg$. Caso contrário, continuaria a fabricá-lo. Foi realizada uma pesquisa de mercado, tomando-se uma amostra de $25$ indivíduos, e verificou-se que $\\sum_{i=1}^{25} X_i  = 180$ $kg$, onde $X_i$ representa o consumo mensal do $i$-ésimo indivíduo da amostra.\n",
        "\n",
        "Com as informações fornecidas, a produção deve ou não parar ?"
      ],
      "metadata": {
        "id": "BZ_oAKNmajo9"
      }
    },
    {
      "cell_type": "code",
      "source": [
        "#desvio padrão = 2\n",
        "# n=25\n",
        "#variância amostral = 10\n",
        "# média amostral = 180/25 = 7.2\n",
        "#se a média de consumo per capita for menor que 8, a produção parará.\n",
        "#se 7.2 for estatisticamente igual a 8, então a produção não parará\n",
        "#se 7.2 for estatisticamente diferente, então a produção parará, pois 8 > 7.2.\n",
        "\n",
        "z_teste(8,7.2,10,25,.95)"
      ],
      "metadata": {
        "id": "H5wP0tOOP7Xc",
        "colab": {
          "base_uri": "https://localhost:8080/"
        },
        "outputId": "2426620d-a76c-4011-d8ed-452191663dcb"
      },
      "execution_count": 34,
      "outputs": [
        {
          "output_type": "stream",
          "name": "stdout",
          "text": [
            "A média amostral é estatisticamente igual a média populacional : Não rejeita-se a hipótese nula.\n",
            "O valor Z (1.26) está dentro do intervalo [-1.96, 1.96].\n",
            "O valor da média amostral  7.20 está dentro do intervalo [ 6.76,  9.24] a um nível de confiança de 95%.\n",
            "p-valor do teste : 0.2059.\n"
          ]
        }
      ]
    },
    {
      "cell_type": "code",
      "source": [
        "z_teste(8,7.2,10,25,.99)"
      ],
      "metadata": {
        "colab": {
          "base_uri": "https://localhost:8080/"
        },
        "id": "kxNxZYAfg-Fw",
        "outputId": "f3b0d85d-084b-4e2e-8272-49a0c5eb713b"
      },
      "execution_count": 35,
      "outputs": [
        {
          "output_type": "stream",
          "name": "stdout",
          "text": [
            "A média amostral é estatisticamente igual a média populacional : Não rejeita-se a hipótese nula.\n",
            "O valor Z (1.26) está dentro do intervalo [-2.58, 2.58].\n",
            "O valor da média amostral  7.20 está dentro do intervalo [ 6.37,  9.63] a um nível de confiança de 99%.\n",
            "p-valor do teste : 0.2059.\n"
          ]
        }
      ]
    },
    {
      "cell_type": "markdown",
      "source": [
        "Como a média amostral é estatisticamente igual a média populacional, então a produção não irá parar."
      ],
      "metadata": {
        "id": "2OVL8GX1Zm97"
      }
    },
    {
      "cell_type": "markdown",
      "source": [
        "### Exemplo 2\n",
        "\n",
        "A associação dos proprietários de indústrias metalúrgicas está muito preocupada com o tempo perdido com acidentes de trabalho, cuja média, nos últimos tempos, tem sido da ordem de 60 horas/homem por ano e desvio padrão de 20 horas/homem. Tentou-se um programa de prevenção de acidentes, após o qual foi tomada uma amostra de nove indústrias e medido o número de horas/homens perdidas por acidente, que foi de 50 horas. Você diria, no nível de 5%, que há evidência de melhoria?"
      ],
      "metadata": {
        "id": "yLUowgs4ZYrD"
      }
    },
    {
      "cell_type": "code",
      "source": [
        "#média populacional = 60 horas/homem\n",
        "#desvio padrão = 20 horas/homem\n",
        "# variância amostral = 60 horas/homem\n",
        "# n=9\n",
        "# média amostral = 50 horas/homem\n",
        "# alfa = 5%\n",
        "\n",
        "z_teste(60,50,60,9,.95)"
      ],
      "metadata": {
        "colab": {
          "base_uri": "https://localhost:8080/"
        },
        "id": "iVqlIDpIg-KL",
        "outputId": "1a261a8f-40b7-4741-be9c-03c15137b113"
      },
      "execution_count": 36,
      "outputs": [
        {
          "output_type": "stream",
          "name": "stdout",
          "text": [
            "A média amostral não é estatisticamente igual a média populacional : Rejeita-se a hipótese nula.\n",
            "O valor Z (3.87) está fora do intervalo [-1.96, 1.96].\n",
            "O valor da média amostral 50.00 está fora do intervalo [54.94, 65.06] a um nível de confiança de 95%.\n",
            "p-valor do teste : 0.0001.\n"
          ]
        }
      ]
    },
    {
      "cell_type": "markdown",
      "source": [
        "Concluímos que houveram melhorias, pois a média amostral, além de ser estatisticamente não igual a média populacional, também é menor. "
      ],
      "metadata": {
        "id": "isuT7B1ia134"
      }
    },
    {
      "cell_type": "markdown",
      "source": [
        "### Exemplo 3\n",
        "\n",
        "O salário médio dos empregados das indústrias siderúrgicas de um país é de 2,5 salários mínimos, com um desvio padrão de 0,5 salários mínimos. Uma indústria é escolhida ao acaso e desta é escolhida uma amostra de 49 empregados, resultando um salário médio de 2,3 salários mínimos. Podemos afirmar que esta indústria paga salários inferiores à média nacional, com o nível de 5% ?"
      ],
      "metadata": {
        "id": "ycXngF4zczB2"
      }
    },
    {
      "cell_type": "code",
      "source": [
        "# média populacional = 2.5 salários\n",
        "# média amostral = 2.3 salários\n",
        "# desvio padrão = 0.5 salário\n",
        "# n = 49\n",
        "# variância amostral = 3.5 salários\n",
        "\n",
        "z_teste(2.5,2.3,3.5,0.5,.95)"
      ],
      "metadata": {
        "id": "ulV2o0oqg-Ne",
        "colab": {
          "base_uri": "https://localhost:8080/"
        },
        "outputId": "2cae4d60-1526-491a-e1f8-b3fc372aac4b"
      },
      "execution_count": 37,
      "outputs": [
        {
          "output_type": "stream",
          "name": "stdout",
          "text": [
            "A média amostral é estatisticamente igual a média populacional : Não rejeita-se a hipótese nula.\n",
            "O valor Z (0.08) está dentro do intervalo [-1.96, 1.96].\n",
            "O valor da média amostral  2.30 está dentro do intervalo [-2.69,  7.69] a um nível de confiança de 95%.\n",
            "p-valor do teste : 0.9397.\n"
          ]
        }
      ]
    },
    {
      "cell_type": "markdown",
      "source": [
        "Concluímos que esta indústria não paga salários inferiores à média populacional."
      ],
      "metadata": {
        "id": "L_CLIaNme2Fe"
      }
    },
    {
      "cell_type": "markdown",
      "source": [
        "### Exemplo 4\n",
        "\n",
        "Uma companhia de cigarros anuncia que o índice médio de nicotina dos cigarros que fabrica apresenta-se abaixo de $23$ $mg$ por cigarro. Um laboratório realiza $6$ análises desse índice, obtendo: $27, 24, 21, 25, 26, 22$. Sabe-se que o índice de nicotina se distribui normalmente, com variância igual a $4,86$ $mg^2$ . Pode-se aceitar, no nível de $10\\%$, a afirmação do fabricante?"
      ],
      "metadata": {
        "id": "anpuDF2rfHBv"
      }
    },
    {
      "cell_type": "code",
      "source": [
        "#n = 6\n",
        "# média amostral\n",
        "media_amostral = np.mean([27,24,21,25,26,22])\n",
        "#variância = 4.86\n",
        "\n",
        "z_teste(2.3,media_amostral,4.86,6,.9)"
      ],
      "metadata": {
        "colab": {
          "base_uri": "https://localhost:8080/"
        },
        "id": "eFMUvegpexjG",
        "outputId": "55385d3e-3bc5-45d4-c599-308bc5d49129"
      },
      "execution_count": 39,
      "outputs": [
        {
          "output_type": "stream",
          "name": "stdout",
          "text": [
            "A média amostral não é estatisticamente igual a média populacional : Rejeita-se a hipótese nula.\n",
            "O valor Z (24.30) está fora do intervalo [-1.64, 1.64].\n",
            "O valor da média amostral 24.17 está fora do intervalo [ 0.82,  3.78] a um nível de confiança de 90%.\n",
            "p-valor do teste : 0.0000.\n"
          ]
        }
      ]
    },
    {
      "cell_type": "markdown",
      "source": [
        "Conforme os resultados acima, rejeitamos a afirmação do fabricante."
      ],
      "metadata": {
        "id": "Kw423JFgg84-"
      }
    },
    {
      "cell_type": "markdown",
      "source": [
        "## Referências\n",
        "\n",
        "KANJI, Gopal K. **100 statistical tests**. Sage, 2006.\n",
        "\n",
        "MORETTIN, Pedro Alberto; BUSSAB, Wilton Oliveira. **Estatística básica**. Saraiva Educação SA, 2017.\n",
        "\n"
      ],
      "metadata": {
        "id": "A5EDUZc2hTUj"
      }
    }
  ]
}