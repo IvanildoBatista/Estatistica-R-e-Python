{
  "nbformat": 4,
  "nbformat_minor": 0,
  "metadata": {
    "colab": {
      "name": "Estatística descritiva univariada em Python.ipynb",
      "provenance": [],
      "collapsed_sections": [],
      "toc_visible": true
    },
    "kernelspec": {
      "name": "python3",
      "display_name": "Python 3"
    },
    "language_info": {
      "name": "python"
    }
  },
  "cells": [
    {
      "cell_type": "markdown",
      "metadata": {
        "id": "jmpgxax-0SLZ"
      },
      "source": [
        "\n",
        "## Estatística descritiva univariada \n",
        "\n",
        "A estatística descritiva é uma ramo da estatística que visa (que como o nome já diz) para descrever e resumir os dados em medidas que possam ser interpretadas. A necessidade dessas medidas surge por ser, na maioria das vezes, inviável visualizar os dados em sua forma bruta, principalmente hoje em dia em que vivemos num mundo com uma quantidade gigantesca de dados são gerados diariamente.  \n",
        "\n",
        "Há dois tipos de estatística descritiva: a univariada e a multivariada. A univariada analisa o comportamento isolado de uma variável, enquanto a multivariada analisa mais variáveis e de como elas se relacionam em conjunto. \n",
        "\n",
        "E para analisar essas variáveis existem três tipos de medidas, que são:\n",
        "\n",
        "- **1. Medidas de posição (tendência) central**;\n",
        "\n",
        "- **2. Medidas de dispersão (ou de variabilidade)**;\n",
        "\n",
        "- **3. Medidas de assimetria e curtose**;\n",
        "\n",
        "Todas essas medidas são chamadas de medidas-resumo ou de medidas de sumarização. A seguir irei falar de cada uma dessas medidas e como calculá-las em bibliotecas linguaguem *Python*. Essas bibliotecas são a *Numpy*, *Scipy*, *Statistic*, *Wquantiles* e *Statsmodels*."
      ]
    },
    {
      "cell_type": "markdown",
      "metadata": {
        "id": "BgOdH4sstbAO"
      },
      "source": [
        "### Importando as bibliotecas\n",
        "\n"
      ]
    },
    {
      "cell_type": "code",
      "metadata": {
        "colab": {
          "base_uri": "https://localhost:8080/"
        },
        "id": "cTiD1z2zEQtR",
        "outputId": "7c710348-31f9-4f27-b801-a4f2e422b2b9"
      },
      "source": [
        "pip install wquantiles"
      ],
      "execution_count": 23,
      "outputs": [
        {
          "output_type": "stream",
          "text": [
            "Requirement already satisfied: wquantiles in /usr/local/lib/python3.7/dist-packages (0.6)\n",
            "Requirement already satisfied: numpy>=1.18 in /usr/local/lib/python3.7/dist-packages (from wquantiles) (1.19.5)\n"
          ],
          "name": "stdout"
        }
      ]
    },
    {
      "cell_type": "code",
      "metadata": {
        "id": "9T1elnDcteW0"
      },
      "source": [
        "import pandas as pd\n",
        "import numpy as np\n",
        "import statistics as st\n",
        "import random\n",
        "import weighted\n",
        "import scipy as sc\n",
        "from scipy.stats import skew, trim_mean, iqr\n",
        "from scipy.stats.mstats import trimmed_std, trimmed_stde\n",
        "from scipy.stats.mstats import mquantiles\n",
        "from scipy.stats import median_absolute_deviation,tvar, variation \n",
        "from scipy.stats.mstats import gmean,hmean, trimmed_mean, mode\n",
        "from scipy.stats import skew, kurtosis\n",
        "from statsmodels.tools.eval_measures import meanabs\n",
        "import warnings\n",
        "warnings.filterwarnings(\"ignore\")"
      ],
      "execution_count": 24,
      "outputs": []
    },
    {
      "cell_type": "markdown",
      "metadata": {
        "id": "tz63ELp7t3N4"
      },
      "source": [
        "### Importando os dados"
      ]
    },
    {
      "cell_type": "code",
      "metadata": {
        "id": "eVmX4E22t6GX"
      },
      "source": [
        "casa = pd.read_csv(\"Mumbai1.csv\")"
      ],
      "execution_count": 25,
      "outputs": []
    },
    {
      "cell_type": "markdown",
      "metadata": {
        "id": "LcHrPpXxpVL3"
      },
      "source": [
        "## **Medidas de localização (tendência central ou posição)**\n",
        "\n",
        "Uma medida de localização mostra um valor em que um conjunto de dados se agrupam em sua volta. As principais medidas de tendência central são a média, mediana e moda. Não irei ater-me apenas nessas três medidas, pos existem outros que são menos conhecidas e que também podem ser usadas na análise descritiva univariada e as bibliotecas citadas anteriormente possuem função que realizam seus cálculo.\n",
        "\n",
        "Após falar das medidas de tendência central, falarei das demais medidas de localização."
      ]
    },
    {
      "cell_type": "markdown",
      "metadata": {
        "id": "sR22Neto6U2w"
      },
      "source": [
        "### **Média aritmética**\n",
        "\n",
        "Basicamente é a soma de todos os valores do conjunto de dados, dividido pelo número de valores. Então a média aritmética de um número $n$ de dados é dada pela função abaixo\n",
        "\n",
        "$\\overline{X} = \\dfrac{X_1 + X_2 + \\dots + X_n}{n}  = \\dfrac{\\sum_{i=1}^n X_i}{n}$\n",
        "\n",
        "Essa medida possui uma limitação: é influenciada por valores extremos ou *outliers*. Esses valores extremos distorcem o valor central gerado no cálculo para a média.\n",
        "\n",
        "**Calculando a média aritmética em *Python*.**"
      ]
    },
    {
      "cell_type": "code",
      "metadata": {
        "id": "NRYdRswgz-_2",
        "colab": {
          "base_uri": "https://localhost:8080/"
        },
        "outputId": "9ac680e4-fc2b-4a3e-b0f8-7accac58e4f9"
      },
      "source": [
        "print('Média com Pandas :',casa['Price'].mean())\n",
        "print('Média com Numpy:',np.average(casa['Price']))\n",
        "print('Média com Numpy:',np.mean(casa['Price']))\n",
        "print('Média com Statistics:',st.mean(casa['Price']))\n",
        "print('Média com Scipy:',sc.mean(casa['Price']))"
      ],
      "execution_count": 10,
      "outputs": [
        {
          "output_type": "stream",
          "text": [
            "Média com Pandas : 15154013.68725382\n",
            "Média com Numpy: 15154013.68725382\n",
            "Média com Numpy: 15154013.68725382\n",
            "Média com Statistics: 15154013.68725382\n",
            "Média com Scipy: 15154013.68725382\n"
          ],
          "name": "stdout"
        }
      ]
    },
    {
      "cell_type": "markdown",
      "metadata": {
        "id": "BZBCODKyxT_V"
      },
      "source": [
        "### **Média geométrica**\n",
        "\n",
        "Outro tipo de média que é pouco conhecida é a geométrica. Essa média difere da aritmética, pois nessa o valor da média é um produto de todos os valores do conjunto de dados e, em seguida, é aplicada a raiz $n$-ésima como pode-se ver abaixo\n",
        "\n",
        "$G = \\sqrt[n]{X_1 * X_2 * \\dots * X_n} = \\sqrt[n]{\\Pi_{i=1}^n X_i}$\n",
        "\n",
        "Os valores do conjunto de dados devem ser não-negativos e a média geométrica é menor que a média aritmética.\n",
        "\n",
        "**Calculando a média geométrica em *Python*.**"
      ]
    },
    {
      "cell_type": "code",
      "metadata": {
        "id": "5KhV4Tpy2jmP",
        "colab": {
          "base_uri": "https://localhost:8080/"
        },
        "outputId": "fc971e5d-7e7b-4280-eaae-0af15277ed31"
      },
      "source": [
        "#print('Média geométrica com a biblioteca Statistics:',geometric_mean(casa['Price']))\n",
        "print('Média geométrica com Scipy:',gmean(casa['Price']))"
      ],
      "execution_count": 11,
      "outputs": [
        {
          "output_type": "stream",
          "text": [
            "Média geométrica Scipy: 9994537.766712159\n"
          ],
          "name": "stdout"
        }
      ]
    },
    {
      "cell_type": "markdown",
      "metadata": {
        "id": "1M1Mc_dN6cgA"
      },
      "source": [
        "### **Média harmônica**\n",
        "\n",
        "Para a média harmônica os valores do conjunto de dados devem ser diferentes de zero, pois todos os valores serão elevados a -1, somado, divididos pelo número de observações e esses resultado será elevado a -1 novamente, conforme abaixo\n",
        "\n",
        "$\\overline{H} = \\bigg(\\dfrac{\\sum_{i=1}^n X_i^{-1}}{n} \\bigg)^{-1}$\n",
        "\n",
        "A média harmônica é menor que a média geométrica.\n",
        "\n",
        "**Calculando a média harmônica em *Python*.**"
      ]
    },
    {
      "cell_type": "code",
      "metadata": {
        "id": "4JAexYUv2lpZ",
        "colab": {
          "base_uri": "https://localhost:8080/"
        },
        "outputId": "7492a92e-da63-48ac-9723-e84db48c0b31"
      },
      "source": [
        "print('Média harmônica com Statistic:',st.harmonic_mean(casa['Price']))\n",
        "print('Média harmônica com Scipy:',hmean(casa['Price']))"
      ],
      "execution_count": 12,
      "outputs": [
        {
          "output_type": "stream",
          "text": [
            "Média harmônica com Statistic: 7202814.3090616055\n",
            "Média harmônica com Scipy: 7202814.3090616055\n"
          ],
          "name": "stdout"
        }
      ]
    },
    {
      "cell_type": "markdown",
      "metadata": {
        "id": "iasIApA58iS2"
      },
      "source": [
        "### **Média aparada**\n",
        "\n",
        "Anteriormente, falei que a média pode ser influenciada por valores extremos e que distorce o valor real da média. Uma forma de resolver esse problema é usar a média aparada. Como o nome deixa claro, é uma forma de retirar os valores *outliers* sem mexer do conjunto de dados. Os dados serão ordenados e uma proporção dos valores que estiverem na \"ponta\" dessa sequência serão desconsideradas no cálculo da média.\n",
        "\n",
        "$\\overline{X}_{aparada} = \\dfrac{\\sum_{i = p+1}^{n-p} X_{(i)}}{n-2p}$\n",
        "\n",
        "Onde $p$ é a proporção dos dados desconsiderados.\n",
        "\n",
        "**Calculando a média aparada em *Python*.**"
      ]
    },
    {
      "cell_type": "code",
      "metadata": {
        "id": "a9RBkgYh2lrp",
        "colab": {
          "base_uri": "https://localhost:8080/"
        },
        "outputId": "66748d08-e49d-4183-cb2a-be456e258ab8"
      },
      "source": [
        "#aparando 10% dos dados\n",
        "print('Média 10% aparada com Scipy :',trim_mean(casa['Price'], 0.1))\n",
        "#aparando 20% dos dados\n",
        "print('Média 20% aparada com Scipy :',trim_mean(casa['Price'], 0.2))\n",
        "#aparando 30% dos dados\n",
        "print('Média 30% aparada com Scipy :',trim_mean(casa['Price'], 0.3))\n",
        "#aparando 40% dos dados\n",
        "print('Média 40% aparada com Scipy :',trim_mean(casa['Price'], 0.4))"
      ],
      "execution_count": 13,
      "outputs": [
        {
          "output_type": "stream",
          "text": [
            "Média 10% aparada com Scipy : 11413664.871825162\n",
            "Média 20% aparada com Scipy : 10477083.98923602\n",
            "Média 30% aparada com Scipy : 9992966.100433242\n",
            "Média 40% aparada com Scipy : 9622229.718332022\n"
          ],
          "name": "stdout"
        }
      ]
    },
    {
      "cell_type": "markdown",
      "metadata": {
        "id": "TMD354D17y2t"
      },
      "source": [
        "### **Erro padrão da média aparada**\n",
        "\n",
        "O erro padrão é uma média de variação da média amostral em relação a média populacional."
      ]
    },
    {
      "cell_type": "code",
      "metadata": {
        "colab": {
          "base_uri": "https://localhost:8080/"
        },
        "id": "Vtsey1iv75Ih",
        "outputId": "7a84caf3-6765-4684-c2f6-e7083dac000a"
      },
      "source": [
        "print('Erro padrão da média aparada com Scipy:',trimmed_stde(casa['Price']))"
      ],
      "execution_count": 14,
      "outputs": [
        {
          "output_type": "stream",
          "text": [
            "Erro padrão da média aparada com Scipy: 135875.17405764293\n"
          ],
          "name": "stdout"
        }
      ]
    },
    {
      "cell_type": "markdown",
      "metadata": {
        "id": "KZJ2DFa__DTs"
      },
      "source": [
        "### **Média ponderada**\n",
        "\n",
        "Existe a média ponderada, onde para cada valor do conjunto de dados é multiplicado por um peso (geralmente um valor entre 0 e 1), os valores da multiplicação são somados e em seguida o valor da soma é dividido pelo somatório dos pesos. Segue a fórmula abaixo\n",
        "\n",
        "$\\overline{X}_{ponderada} = \\dfrac{\\sum_{i=1}^{n} w_ix_i}{\\sum_i^n w_i}$\n",
        "\n",
        "Essa média é importante, por exemplo, para reduzir a variabilidade dos dados (em dados altamente variáveis os pesos são menores) e/ou para dar corrigir diferenças entre dados de grupos de dados diferentes."
      ]
    },
    {
      "cell_type": "code",
      "metadata": {
        "id": "kT9VzurD2lvv"
      },
      "source": [
        "#criando aleatoriamente uma lista de pesos com valores entre 0 e 1 \n",
        "lista=[]\n",
        "\n",
        "random.seed(123)\n",
        "for i in range(6347):\n",
        "  lista.append(random.random())"
      ],
      "execution_count": 16,
      "outputs": []
    },
    {
      "cell_type": "markdown",
      "metadata": {
        "id": "xYg3hzO2DAk9"
      },
      "source": [
        "**Calculando a média ponderada em *Python*.**"
      ]
    },
    {
      "cell_type": "code",
      "metadata": {
        "id": "8rfcDK7m2l11",
        "colab": {
          "base_uri": "https://localhost:8080/"
        },
        "outputId": "c47b62b3-0609-4997-d747-165616c77df8"
      },
      "source": [
        "print(\"Média ponderada Numpy :\",np.average(casa['Price'].tolist(), weights=lista))"
      ],
      "execution_count": 17,
      "outputs": [
        {
          "output_type": "stream",
          "text": [
            "Média ponderada Numpy : 14890309.89708178\n"
          ],
          "name": "stdout"
        }
      ]
    },
    {
      "cell_type": "markdown",
      "metadata": {
        "id": "clc3jhVXDKHI"
      },
      "source": [
        "### **Mediana**\n",
        "\n",
        "A mediana é o número central em um conjunto de dados. Mediana significa \"o valor do meio\" quando as observações são ordenadas do menor valor para o maior. Então, existem duas situações:\n",
        "\n",
        "- Se o número de observações foi ímpar, então a mediana será o valor que está no meio dos dados;\n",
        "\n",
        "- Se o número de observações for par, toma-se a média dois valores centrais em dois.\n",
        "\n",
        "$\\tilde{X} \\left \\{ \\begin{matrix} \\bigg(\\dfrac{X_n+1}{2}\\bigg), & \\mbox{se }n\\mbox{ é ímpar} \\\\ \\bigg(\\dfrac{X_n}{2}\\bigg) + \\bigg(\\dfrac{X_n+1}{2}\\bigg), & \\mbox{se }n\\mbox{ é par} \\end{matrix} \\right.$\n",
        "\n",
        "A medida possui uma vantagem em relação a média : como ela não usa todos os valores do conjunto de dados em seu cálculo, então ela não é influenciada por valores extremos. Por mais aparente uma desvantagem usar a mediana, pelo número de dados usados em seu cálculo, em muitas situações ela é mais vantajosa que a média.\n",
        "\n",
        "**Calculando a mediana em *Python*.**"
      ]
    },
    {
      "cell_type": "code",
      "metadata": {
        "id": "p4MNiGge2l3_",
        "colab": {
          "base_uri": "https://localhost:8080/"
        },
        "outputId": "87d55a54-5404-4714-b3fe-ec814cb58f63"
      },
      "source": [
        "print('Mediana com Pandas:',casa['Price'].median())\n",
        "print('Mediana com Numpy:',np.median(casa['Price']))\n",
        "print('Mediana com Scipy:',sc.median(casa['Price']))\n",
        "print('Mediana com Statistics:',st.median(casa['Price']))"
      ],
      "execution_count": 18,
      "outputs": [
        {
          "output_type": "stream",
          "text": [
            "Mediana com Pandas: 9500000.0\n",
            "Mediana com Numpy: 9500000.0\n",
            "Mediana com Scipy: 9500000.0\n",
            "Mediana com Statistics: 9500000\n"
          ],
          "name": "stdout"
        }
      ]
    },
    {
      "cell_type": "markdown",
      "metadata": {
        "id": "JpabxuAxEmud"
      },
      "source": [
        "### **Mediana ponderada**\n",
        "\n",
        "Não tão conhecida como a medida anterior, essa segue a mesma ideia da média ponderada. Os valores da mediana serão ordenados, multiplicados por um conjunto de pesos, somados e divididos pela soma dos pesos. Em vez de um valor central, a mediana ponderada é um valor cuja a soma dos pesos é o mesmo para as duas metades (inferior e superior) do conjunto de dados.\n",
        "\n",
        "A mediana ponderada pode ser definida como \n",
        "\n",
        "$X_j$ onde  $ j = min_k \\bigg[\\sum_{i=1}^k w_ix_i  > \\dfrac{1}{2} \\sum_{i=1}^n w_ix_i \\bigg]$\n",
        "\n",
        "Agora, se \n",
        "\n",
        "$ min_k \\bigg[\\sum_{i=1}^k w_ix_i  = \\dfrac{1}{2} \\sum_{i=1}^n w_ix_i \\bigg]$\n",
        "\n",
        "A mediana pode ser calculada por $\\bigg(\\dfrac{X_n}{2}\\bigg) + \\bigg(\\dfrac{X_n+1}{2}\\bigg)$.\n",
        "\n",
        "**Calculando a mediana ponderada em *Python*.**"
      ]
    },
    {
      "cell_type": "code",
      "metadata": {
        "id": "iHnutt_u2l73",
        "colab": {
          "base_uri": "https://localhost:8080/"
        },
        "outputId": "4fe40c56-98af-4fa0-9f98-aec0b73994e5"
      },
      "source": [
        "print('Mediana ponderada com Wquantiles :',weighted.median(casa['Price'], lista))"
      ],
      "execution_count": 19,
      "outputs": [
        {
          "output_type": "stream",
          "text": [
            "Mediana ponderada com Wquantiles : 9400000.0\n"
          ],
          "name": "stdout"
        }
      ]
    },
    {
      "cell_type": "markdown",
      "metadata": {
        "id": "JNHQ7OMHAowH"
      },
      "source": [
        "### **Mediana baixa**\n",
        "\n",
        "Essa medida de mediana é dada em duas situações: Se o número de observações for ímpar, o valor do meio será o valor da mediana; porém, se o valor for par, então a mediana será o menor valor dentre os dois valores intermediários.\n",
        "\n",
        "$\\tilde{X} \\left \\{ \\begin{matrix} \\bigg(\\dfrac{X_n+1}{2}\\bigg), & \\mbox{se }n\\mbox{ é ímpar} \\\\ \\bigg(\\dfrac{X_n}{2}\\bigg), & \\mbox{se }n\\mbox{ é par} \\end{matrix} \\right.$\n",
        "\n",
        "**Calculando a baixa mediana com *Python*.**\n"
      ]
    },
    {
      "cell_type": "code",
      "metadata": {
        "colab": {
          "base_uri": "https://localhost:8080/"
        },
        "id": "a6t_fg48E-2d",
        "outputId": "b26772de-5a32-45af-8d15-392c8a6f066b"
      },
      "source": [
        "print('Mediana baixa com Statistics:',st.median_low(casa['Price']))"
      ],
      "execution_count": 20,
      "outputs": [
        {
          "output_type": "stream",
          "text": [
            "Mediana baixa com Statistics: 9500000\n"
          ],
          "name": "stdout"
        }
      ]
    },
    {
      "cell_type": "markdown",
      "metadata": {
        "id": "3PQdPpGBBrle"
      },
      "source": [
        "### **Mediana alta**\n",
        "\n",
        "Essa medida de mediana é dada em duas situações: Se o número de observações for ímpar, o valor do meio será o valor da mediana; porém, se o valor for par, então a mediana será o maior valor dentre os dois valores intermediários.\n",
        "\n",
        "$\\tilde{X} \\left \\{ \\begin{matrix} \\bigg(\\dfrac{X_n+1}{2}\\bigg), & \\mbox{se }n\\mbox{ é ímpar} \\\\ \\bigg(\\dfrac{X_n + 1}{2}\\bigg), & \\mbox{se }n\\mbox{ é par} \\end{matrix} \\right.$\n",
        "\n",
        "**Calculando a alta mediana com *Python*.**"
      ]
    },
    {
      "cell_type": "code",
      "metadata": {
        "colab": {
          "base_uri": "https://localhost:8080/"
        },
        "id": "JbuPHbSEE-0X",
        "outputId": "ab47dacf-21f6-4149-e1a0-1bcfc7a5a451"
      },
      "source": [
        "print('Mediana alta com Statistics :',st.median_high(casa['Price']))"
      ],
      "execution_count": 21,
      "outputs": [
        {
          "output_type": "stream",
          "text": [
            "Mediana alta com Statistics : 9500000\n"
          ],
          "name": "stdout"
        }
      ]
    },
    {
      "cell_type": "markdown",
      "metadata": {
        "id": "B2QnTECgCMk3"
      },
      "source": [
        "### **Mediana agrupada**\n",
        "\n",
        "Essa mediana é usada quando os dados contínuos são agrupados em intervalos. Por meio do argumento *interval* é possível alterar os intervalos para calcular a mediana. Não é muito usada, mas fica aqui para fins de curiosidade.\n",
        "\n",
        "**Calculando a mediana agrupada em *Python*.**\n"
      ]
    },
    {
      "cell_type": "code",
      "metadata": {
        "colab": {
          "base_uri": "https://localhost:8080/"
        },
        "id": "-zEYhQGUEbXO",
        "outputId": "cbcde769-140c-4359-9edb-9f9a8bebc4fa"
      },
      "source": [
        "print(\"Mediana agrupada com Statistics :\",st.median_grouped(casa['Price']))\n",
        "print(\"Mediana agrupada com Statistics :\",st.median_grouped(casa['Price'], interval=2))\n",
        "print(\"Mediana agrupada com Statistics :\",st.median_grouped(casa['Price'], interval=3))"
      ],
      "execution_count": 22,
      "outputs": [
        {
          "output_type": "stream",
          "text": [
            "Mediana agrupada com Statistics : 9499999.6875\n",
            "Mediana agrupada com Statistics : 9499999.375\n",
            "Mediana agrupada com Statistics : 9499999.0625\n"
          ],
          "name": "stdout"
        }
      ]
    },
    {
      "cell_type": "markdown",
      "metadata": {
        "id": "SrXyCZhuHAWo"
      },
      "source": [
        "### **Moda**\n",
        "\n",
        "A moda é o valor que mais se repete em um conjunto de dados. Quando existe apenas um valor que se repete com frequência dizemos que os dados são **unimodais**. Entretanto isso não significa que outros valores não se repitam frequentemente, podem haver outros e dizemos que os dados são ou bimodais, ou trimodais, ou **multimodais**.\n",
        "\n",
        "**Calculando a moda com *Python*.**\n"
      ]
    },
    {
      "cell_type": "code",
      "metadata": {
        "id": "tS2ON3_kE-6D",
        "colab": {
          "base_uri": "https://localhost:8080/"
        },
        "outputId": "53f6324f-a864-4de0-a7f4-ed87511e69a3"
      },
      "source": [
        "print(\"Calculando a moda com a biblioteca Pandas :\",casa['Price'].mode()[0])\n",
        "print(\"Calculando a moda com a biblioteca Statistics :\",st.mode(casa['Price']))\n",
        "print(\"Calculando com Scipy a Moda é\", mode(casa['Price'])[0][0],\n",
        "      \"e o número de vezes que o valor se repete é\", mode(casa['Price'])[1][0])"
      ],
      "execution_count": 18,
      "outputs": [
        {
          "output_type": "stream",
          "text": [
            "Calculando a moda com a biblioteca Pandas : 8500000\n",
            "Calculando a moda com a biblioteca Statistics : 8500000\n",
            "Calculando com Scipy a Moda é 8500000.0 e o número de vezes que o valor se repete é 116.0\n"
          ],
          "name": "stdout"
        }
      ]
    },
    {
      "cell_type": "markdown",
      "metadata": {
        "id": "ouFLLB5TPE1h"
      },
      "source": [
        "**Calculando mais de uma moda com *Python*.**\n",
        "\n",
        "Com a função *value_counts()* o quanto os valores se repetem. Abaixo temos os 10 preços que mais se repetem."
      ]
    },
    {
      "cell_type": "code",
      "metadata": {
        "id": "v6pKWqNXE_BW",
        "colab": {
          "base_uri": "https://localhost:8080/"
        },
        "outputId": "7a149d4c-61c6-43f1-bb64-0aa824097a65"
      },
      "source": [
        "casa['Price'].value_counts()[0:10]"
      ],
      "execution_count": 19,
      "outputs": [
        {
          "output_type": "execute_result",
          "data": {
            "text/plain": [
              "8500000     116\n",
              "9000000      93\n",
              "7500000      92\n",
              "9500000      88\n",
              "4500000      88\n",
              "8000000      88\n",
              "11000000     85\n",
              "5500000      81\n",
              "10000000     80\n",
              "6500000      78\n",
              "Name: Price, dtype: int64"
            ]
          },
          "metadata": {
            "tags": []
          },
          "execution_count": 19
        }
      ]
    },
    {
      "cell_type": "markdown",
      "metadata": {
        "id": "0G2FytNGQo9c"
      },
      "source": [
        "Daqui em diante irei falar sobre as outras medidas de localização que são importantes para a análise univariada."
      ]
    },
    {
      "cell_type": "markdown",
      "metadata": {
        "id": "CySs-konUb6W"
      },
      "source": [
        "### **Quantis (Quartis, Decis e Percentis)**\n",
        "\n",
        "São os valores que dividem o conjunto de dados em partes iguais e que possuem a mesma probabilidade. Para calcular o quantil é necessário, ordenar os dados crescentemente, definir um valor $p$ (que vai dividir a proporção dos dados) e multiplicá-lo pelo número de observações $n$ mais 1\n",
        "\n",
        "Posição = $p \\cdot (n+1)$\n",
        "\n",
        "encontramos a posição do quantil que dividi os dados para a proporção requerida. Por exemplo, se eu quiser encontrar o quantil que divide os dados ao meio e eu tiver 11 observações basta fazer\n",
        "\n",
        "Posição = $0.5 \\cdot (11+1) = 0.5 \\cdot 12 = 6$\n",
        "\n",
        "Então o valor que está na posição 6 divide os dados na metade.\n",
        "\n",
        "Geralmente os dados são divididos em 4 partes iguais (quartis), em 10 partes iguais (decis) ou em 100 partes iguais (percentis). \n",
        "\n",
        "- Os quartis são denotados por $Q_1$, $Q_2$ e $Q_3$\n",
        "- Os decis são denotados por $D_1$, $D_2$, $\\dots$ , $D_9$;\n",
        "- Os percentis são denotados por $P_1$, $P_2$, $\\dots$ , $P_{99}$;\n",
        "\n",
        "Bom destacar que o segundo quartil é igual ao quinto decil, que é igual ao quinquagésimo percentil e, por fim, igual a Mediana dos dados.\n",
        "\n",
        "$Q_2 = D_5 = P_{50} = Mediana$\n",
        "\n",
        "Então a mediana é um caso particular dessas divisões dos dados.\n",
        "\n",
        "Criando listas com valores dos quantis."
      ]
    },
    {
      "cell_type": "code",
      "metadata": {
        "id": "9i35CdxkjwPJ"
      },
      "source": [
        "quartis = list(np.multiply(list(range(1,4)),0.25))\n",
        "decis = list(np.multiply(list(range(1,9)),0.10))\n",
        "percentis = list(np.multiply(list(range(1,99)),0.01))"
      ],
      "execution_count": 20,
      "outputs": []
    },
    {
      "cell_type": "markdown",
      "metadata": {
        "id": "svbHQEJpo3eH"
      },
      "source": [
        "**Calculando os Quartis, Decis e Percentis em *Python*.**"
      ]
    },
    {
      "cell_type": "code",
      "metadata": {
        "id": "pWc-7WHCE_E_",
        "colab": {
          "base_uri": "https://localhost:8080/"
        },
        "outputId": "dfeb1c81-1568-4754-f01a-550a248d78ad"
      },
      "source": [
        "#Quartis com a biblioteca Pandas\n",
        "casa['Price'].quantile(quartis)\n",
        "\n",
        "# Calculando os decis: casa['Price'].quantile(decis)\n",
        "# Calculando os percentis : casa['Price'].quantile(percentis)"
      ],
      "execution_count": 21,
      "outputs": [
        {
          "output_type": "execute_result",
          "data": {
            "text/plain": [
              "0.25     5300000.0\n",
              "0.50     9500000.0\n",
              "0.75    17500000.0\n",
              "Name: Price, dtype: float64"
            ]
          },
          "metadata": {
            "tags": []
          },
          "execution_count": 21
        }
      ]
    },
    {
      "cell_type": "code",
      "metadata": {
        "colab": {
          "base_uri": "https://localhost:8080/"
        },
        "id": "xruCoAkviv97",
        "outputId": "bc7d0637-ce08-4a69-d1af-6b4b40232145"
      },
      "source": [
        "#Quartis com a biblioteca Scipy\n",
        "mquantiles(casa['Price'],quartis)\n",
        "\n",
        "# Calculando os decis: mquantiles(casa['Price'],decis)\n",
        "# Calculando os percentis : mquantiles(casa['Price'],percentis)"
      ],
      "execution_count": 22,
      "outputs": [
        {
          "output_type": "execute_result",
          "data": {
            "text/plain": [
              "array([ 5300000.,  9500000., 17500000.])"
            ]
          },
          "metadata": {
            "tags": []
          },
          "execution_count": 22
        }
      ]
    },
    {
      "cell_type": "code",
      "metadata": {
        "id": "OZB2OgcPE_Il",
        "colab": {
          "base_uri": "https://localhost:8080/"
        },
        "outputId": "4e7b9c40-026d-49ed-9e6c-32b460773f89"
      },
      "source": [
        "#Quartis com a biblioteca Numpy\n",
        "np.percentile(casa['Price'],np.multiply(quartis,100))\n",
        "\n",
        "# Calculando os decis: np.percentile(casa['Price'],np.multiply(decis))\n",
        "# Calculando os percentis : np.percentile(casa['Price'],np.multiply(percentis))"
      ],
      "execution_count": 23,
      "outputs": [
        {
          "output_type": "execute_result",
          "data": {
            "text/plain": [
              "array([ 5300000.,  9500000., 17500000.])"
            ]
          },
          "metadata": {
            "tags": []
          },
          "execution_count": 23
        }
      ]
    },
    {
      "cell_type": "markdown",
      "metadata": {
        "id": "sOQiMxU3Usk5"
      },
      "source": [
        "## **Medidas de dispersão (ou variabilidade)**\n",
        "\n",
        "A medidas de posição dão apenas informações parciais sobre os dados e suas distribuições, por isso é necessário analisar como os dados estão variando. Por exemplo, imagine que existam duas maçãs e duas pessoas, uma das pessoas come as duas maçãs, mas média cada uma consumiu uma maçã. Isso não é muito justo e de certa forma não faz sentido.\n",
        "\n",
        "Como o nome explica, são medida que mostram como os dados estão separados ou compactados, e em que direção eles estão. Em toda ramo da estatística inferencial a variabilidade dos dados é de extrema importância para realizar análises e identificar os melhores modelos.\n",
        "\n",
        "- Desvios\n",
        "- Desvio absoluto médio\n",
        "- Desvio absoluto mediano\n",
        "- Variância\n",
        "- Variância aparada\n",
        "- Desvio padrão\n",
        "- Desvio padrão aparado\n",
        "- Amplitude\n",
        "- Intervalo interquartil\n",
        "- Coeficiente interquartil\n",
        "\n",
        "\n"
      ]
    },
    {
      "cell_type": "markdown",
      "metadata": {
        "id": "TWGSUEkNV0y7"
      },
      "source": [
        "### **Desvio**\n",
        "\n",
        "Das medidas de dispersão, essa é a mais simples. É a diferença entre do valor de todos dos dados e a média do conjunto de dados. Não é necessário nenhuma análise profunda para perceber que a soma de todos os desvios é igual a zero.\n",
        "\n",
        "$D = X_i - \\overline{X}$ e $\\sum_{i=1}^n D = 0$\n",
        "\n",
        "Essa métrica também pode ser chamada de **erros** ou **resíduos**. Essa medida não é muito importante, mas é a base para desenvolver outras medidas que são relevantes."
      ]
    },
    {
      "cell_type": "code",
      "metadata": {
        "id": "A5tXvvudE_MD",
        "colab": {
          "base_uri": "https://localhost:8080/"
        },
        "outputId": "04ecc1f2-ba39-4dd6-f374-96acc3943b1f"
      },
      "source": [
        "casa['Price']-casa['Price'].mean()"
      ],
      "execution_count": 24,
      "outputs": [
        {
          "output_type": "execute_result",
          "data": {
            "text/plain": [
              "0      -1.030401e+07\n",
              "1      -1.065401e+07\n",
              "2      -8.454014e+06\n",
              "3      -1.065401e+07\n",
              "4      -1.015401e+07\n",
              "            ...     \n",
              "6342   -1.266901e+07\n",
              "6343   -6.540137e+05\n",
              "6344   -6.540137e+05\n",
              "6345   -1.105401e+07\n",
              "6346   -1.240401e+07\n",
              "Name: Price, Length: 6347, dtype: float64"
            ]
          },
          "metadata": {
            "tags": []
          },
          "execution_count": 24
        }
      ]
    },
    {
      "cell_type": "markdown",
      "metadata": {
        "id": "ICFpCQKWV2yK"
      },
      "source": [
        "### **Desvio absoluto médio**\n",
        "\n",
        "O desvio absoluto médio é a média do do valor absoluto dos desvios da média; também pode ser chamado de **normal l1** ou **norma Manhattan**.\n",
        "Para calcular essa medida tomamos os desvios, colocamos em valores absolutos, somamos todos e dividimos pelo número de observações. Ao utilizar valores absolutos a soma dos desvios não será zero.\n",
        "\n",
        "$D.A.M = \\dfrac{\\sum_{i=1}^n |x_i - \\overline{x}|}{n}$"
      ]
    },
    {
      "cell_type": "code",
      "metadata": {
        "id": "NdTmWJQFE_P7",
        "colab": {
          "base_uri": "https://localhost:8080/"
        },
        "outputId": "22ef8876-76fd-4406-ca21-f448487af13b"
      },
      "source": [
        "print('Desvio absoluto médio com a biblioteca Pandas :',casa['Price'].mad())\n",
        "print('Desvio absoluto médio com a biblioteca Statsmodels :',meanabs(casa['Price'],casa['Price'].mean()))"
      ],
      "execution_count": 25,
      "outputs": [
        {
          "output_type": "stream",
          "text": [
            "Desvio absoluto médio com a biblioteca Pandas : 10861672.997689942\n",
            "Desvio absoluto médio com a biblioteca Statsmodels : 10861672.997689554\n"
          ],
          "name": "stdout"
        }
      ]
    },
    {
      "cell_type": "markdown",
      "metadata": {
        "id": "MiSxjsCHV8yC"
      },
      "source": [
        "### **Desvio absoluto mediano**\n",
        "\n",
        "O desvio absoluto mediano segue o mesmo raciocínio da mediana, onde calcula-se os desvios, converte os valores para valores absolutos, ordena-se os desvios e encontra-se a mediana na sua forma convencional.\n",
        "\n",
        "$D.A.Med = mediana(|x_1 - \\overline{x}|, |x_2 - \\overline{x}|,|x_3 - \\overline{x}|,\\dots, |x_i - \\overline{x}|)$"
      ]
    },
    {
      "cell_type": "code",
      "metadata": {
        "id": "J2JylL_gE_Us",
        "colab": {
          "base_uri": "https://localhost:8080/"
        },
        "outputId": "8077e012-305b-49b3-fa76-cfa15db38f87"
      },
      "source": [
        "print('Desvio absoluto mediano com Pandas :',median_absolute_deviation(casa['Price']))"
      ],
      "execution_count": 26,
      "outputs": [
        {
          "output_type": "stream",
          "text": [
            "Desvio absoluto mediano com Pandas : 7709520.0\n"
          ],
          "name": "stdout"
        }
      ]
    },
    {
      "cell_type": "markdown",
      "metadata": {
        "id": "bab8UHI2WEeN"
      },
      "source": [
        "### **Variância**\n",
        "\n",
        "Essa, com certeza, é a mais importante e conhecida das medidas de dispersão. É calculada usando o quadrado dos desvios ou dos resíduos, soma-se todos os valores e dividi-se o resultado pela número de observações menos 1. Segue abaixo a fórmula da variância\n",
        "\n",
        "$\\sigma^2 = \\dfrac{\\sum_{i=1}^n (X_i - \\overline{X})^2}{n-1}$\n",
        "\n",
        "Essa medida apresenta o incoveniente de apresentar a sua unidade de medida igual ao quadrado da unidade de medida do conjunto de dados. Por exemplo, se os dados estiverem em $m$ a unidade de medida da variância será $m^2$.\n",
        "\n",
        "**Calculando a variância em *Python*.**\n"
      ]
    },
    {
      "cell_type": "code",
      "metadata": {
        "id": "IklQQfgeE_YP",
        "colab": {
          "base_uri": "https://localhost:8080/"
        },
        "outputId": "257e8fbb-80c7-4ee3-d7fb-ece8b7c0c17f"
      },
      "source": [
        "print('Variância com a biblioteca Pandas :',casa['Price'].var())\n",
        "print('Variância com a biblioteca Statistics :',st.variance(casa['Price']))\n",
        "print('Variância com a biblioteca Statistics :',st.pvariance(casa['Price']))\n",
        "print('Variância com a biblioteca Numpy :',np.var(casa['Price']))"
      ],
      "execution_count": 27,
      "outputs": [
        {
          "output_type": "stream",
          "text": [
            "Variância com a biblioteca Pandas : 406402470359149.56\n",
            "Variância com a biblioteca Statistics : 406402470359149.56\n",
            "Variância com a biblioteca Statistics : 406338439719420.7\n",
            "Variância com a biblioteca Numpy : 406338439719420.7\n"
          ],
          "name": "stdout"
        }
      ]
    },
    {
      "cell_type": "markdown",
      "metadata": {
        "id": "LIQuC3s62kfy"
      },
      "source": [
        "### **Variância aparada**\n",
        "\n",
        "Assim como a média, a variância também pode ser influenciada por valores extremos, principalmente porque os valores dos resíduos são elevados ao quadrado, o que faz com que esse valor muito. Assim, sendo o valor pode estar distorcido.\n",
        "\n",
        "A variância aparada segue a mesma ideia da média aparada: desconsiderar uma proporção de valores que estão \"na ponta\" dos dados (valores maiores e menores).\n",
        "\n",
        "**Calculando a variância aparada em *Python*.**"
      ]
    },
    {
      "cell_type": "code",
      "metadata": {
        "id": "Eq7vF9Y42oEI",
        "colab": {
          "base_uri": "https://localhost:8080/"
        },
        "outputId": "87a2bdda-4055-4f02-b9d4-60f3d359cf57"
      },
      "source": [
        "#precisa definir dois valores limites (inferior e superior)\n",
        "print('Variância aparada com Scipy :',tvar(casa['Price'], limits=[2500000,400000000]))"
      ],
      "execution_count": 34,
      "outputs": [
        {
          "output_type": "stream",
          "text": [
            "Variância aparada com Scipy : 389161720347961.44\n"
          ],
          "name": "stdout"
        }
      ]
    },
    {
      "cell_type": "markdown",
      "metadata": {
        "id": "nmvV5Ct3WG81"
      },
      "source": [
        "### **Desvio padrão**\n",
        "\n",
        "Essa medida, assim como a variância, é muito conhecida e bastante usada em testes estatísticos. Pode ser interpretada como a distância média dos dados em relação a média. É a raiz quadrada da variância e resolve o pequeno inconveniente da variância, pois a sua unidade de medida é igual a unidade de medida dos dados; ou seja, se os dados estiverem em $m$ (metros), então o desvio-padrão estará em $m$.\n",
        "\n",
        "$\\sigma = \\sqrt{\\dfrac{\\sum_{i=1}^n (X_i - \\overline{X})^2}{n-1}}$\n",
        "\n",
        "**Calculando o desvio-padrão em *Python*.**\n"
      ]
    },
    {
      "cell_type": "code",
      "metadata": {
        "id": "uRtYTEzwQNLB",
        "colab": {
          "base_uri": "https://localhost:8080/"
        },
        "outputId": "960bcd7e-c697-4661-da33-97fc513204b9"
      },
      "source": [
        "print('Desvio padrão com Numpy :',np.std(casa['Price']))\n",
        "print('Desvio padrão com Statistics :',st.pstdev(casa['Price']))\n",
        "print('Desvio padrão com Statistics :',st.stdev(casa['Price']))\n",
        "print('Desvio padrão com Pandas :',casa['Price'].std())"
      ],
      "execution_count": 42,
      "outputs": [
        {
          "output_type": "stream",
          "text": [
            "Desvio padrão com Numpy : 20157838.170781624\n",
            "Desvio padrão com Statistics : 20157838.170781624\n",
            "Desvio padrão com Statistics : 20159426.340031344\n",
            "Desvio padrão com Pandas : 20159426.340031344\n"
          ],
          "name": "stdout"
        }
      ]
    },
    {
      "cell_type": "markdown",
      "metadata": {
        "id": "85SfEVbT4XWr"
      },
      "source": [
        "### **Desvio padrão aparado**\n",
        "\n",
        "Mesma lógica da média aparada e variância parada: desconsiderar valores extremos no cálculo da medida. Com isso podemos ter uma distância média dos dados para a média mais próxima da realidade.\n",
        "\n",
        "**Calculando o desvio-padrão aparado em *Python*.**"
      ]
    },
    {
      "cell_type": "code",
      "metadata": {
        "colab": {
          "base_uri": "https://localhost:8080/"
        },
        "id": "xetJifSs4evx",
        "outputId": "f9c5ae88-949a-4771-b5ed-125f82fab9e9"
      },
      "source": [
        "#por padrão apara os dados 10% maiores e 10% menores\n",
        "print('Desvio padrão aparado com Scipy :',trimmed_std(casa['Price']))"
      ],
      "execution_count": 51,
      "outputs": [
        {
          "output_type": "stream",
          "text": [
            "Desvio padrão aparado com Scipy : 6604220.969745429\n"
          ],
          "name": "stdout"
        }
      ]
    },
    {
      "cell_type": "markdown",
      "metadata": {
        "id": "5C2lugeQWJoZ"
      },
      "source": [
        "### **Amplitude**\n",
        "\n",
        "A amplitude é a diferença entre os maiores e menores valores observados no conjunto de dados. Essa medida leva em consideração apenas os valores extremos, por esse motivo não é considerada uma boa medida de dispersão.\n",
        "\n",
        "$Amplitude = X_{máximo} - X_{mínimo}$\n",
        "\n",
        "**Calculando a amplitude com *Python*.**"
      ]
    },
    {
      "cell_type": "code",
      "metadata": {
        "id": "bzCOQVjsQNPy",
        "colab": {
          "base_uri": "https://localhost:8080/"
        },
        "outputId": "c6d20a2f-d6de-49c3-f94d-89c62ffbbdd5"
      },
      "source": [
        "print('Amplitude com Numpy :',np.max(casa['Price'])-np.min(casa['Price']))\n",
        "print('Amplitude com Pandas :',casa['Price'].max() - casa['Price'].min())"
      ],
      "execution_count": 57,
      "outputs": [
        {
          "output_type": "stream",
          "text": [
            "Amplitude com Numpy : 418000000\n",
            "Amplitude com Pandas : 418000000\n"
          ],
          "name": "stdout"
        }
      ]
    },
    {
      "cell_type": "markdown",
      "metadata": {
        "id": "2vJBNB9PWPY3"
      },
      "source": [
        "### **Intervalo interquartil**\n",
        "\n",
        "O intervalo interquartil ou Amplitude interquartílica é a diferença entre o 75º percentil (3º quartil) e o 25º percentil (1º quartil). Essa medida difere da variância e do desvio padrão, pois ela leva em consideração o ordenamento dos dados. Fórmula abaixo\n",
        "\n",
        "$IIQ = Q_3 - Q_1$\n",
        "\n",
        "**Calculando o intervalo interquartil em *Python*.**"
      ]
    },
    {
      "cell_type": "code",
      "metadata": {
        "id": "FdQa8tSYQNXF",
        "colab": {
          "base_uri": "https://localhost:8080/"
        },
        "outputId": "114088f9-626c-49ca-8af3-295b05b12bea"
      },
      "source": [
        "print('Intervalo Interquartil com Scipy :',iqr(casa['Price']))"
      ],
      "execution_count": 59,
      "outputs": [
        {
          "output_type": "stream",
          "text": [
            "Intervalo Interquartil com Scipy : 12200000.0\n"
          ],
          "name": "stdout"
        }
      ]
    },
    {
      "cell_type": "markdown",
      "metadata": {
        "id": "OxIM4n6xW4sb"
      },
      "source": [
        "### **Coeficiente de variação**\n",
        "\n",
        "Esse coeficiente mede o grau de dispersão dos dados em torno da média. Uma vantagem dessa medida é que ela é adimensional, um número puro que não é dependente da unidade de medida dos dados; como a variância e o desvio padrão, podendo ser expressa em valores percentuais. \n",
        "\n",
        "Para calculá-la toma-se o desvio padrão e dividimos ele pela média dos dados. Caso queira expressá-la em termos percentuais, basta multiplicarmos por 100, conforme abaixo\n",
        "\n",
        "$CV = \\dfrac{\\sigma}{\\overline{X}} \\cdot 100$\n",
        "\n",
        "Saber se o coeficiente de variação é baixo, médio ou alto vai depender da sua aplicação, porém é uma boa medida para comparar a variabilidade entre duas variáveis.\n",
        "\n",
        "**Calculando o coeficiente de variação em *Python*.**"
      ]
    },
    {
      "cell_type": "code",
      "metadata": {
        "id": "m_zOo8G4W8AI",
        "colab": {
          "base_uri": "https://localhost:8080/"
        },
        "outputId": "db3e3275-3d59-4661-ae90-9d966f14bc9f"
      },
      "source": [
        "print('Coeficiente de variação na Scipy :',variation(casa['Price']))"
      ],
      "execution_count": 9,
      "outputs": [
        {
          "output_type": "stream",
          "text": [
            "Coeficiente de variação na Scipy : 1.3301979651593272\n"
          ],
          "name": "stdout"
        }
      ]
    },
    {
      "cell_type": "markdown",
      "metadata": {
        "id": "k_azsTZDWy46"
      },
      "source": [
        "## **Medidas de assimetria e curtose**\n",
        "\n",
        "Essas medidas estão relacionadas a distribuição dos dados de uma variável. O estudo de distribuições são importantes para realizar a modelagem de populações e existem alguns coeficientes que expressam o comportamento das distribuições."
      ]
    },
    {
      "cell_type": "markdown",
      "metadata": {
        "id": "stBU6Xm7W3TD"
      },
      "source": [
        "### **Coeficiente de assimetria**\n",
        "\n",
        "Essa medida verifica onde os dados estão se concentrando em relação à média. Se os dados estão à direita da média, então há assimetria negativa; se os dados concentram-se a esquerda da média, então há assimetria positiva; e se os dados estiverem concentrados junto a média, dizemos que a distribuição dos dados é simétrica. A fórmula do coeficiente é dada abaixo\n",
        "\n",
        "$S = \\sum_{i=1}^{n} \\dfrac{(X_i - \\overline{X})^3/n}{\\sigma^3}$\n",
        "\n",
        "Se o valor de $S$ for menor que zero ($S < 0$), a distribuição do conjunto de dados é assimétrica negativa. Se $S > 0$, a distribuição dos dados é assimétrica positiva. Por fim, se $S=0$, então não há assimetria nos dados.\n",
        "\n",
        "**Calculando o coeficiente de assimetria em *Python*.**"
      ]
    },
    {
      "cell_type": "code",
      "metadata": {
        "id": "wOhYjeIeQNb1",
        "colab": {
          "base_uri": "https://localhost:8080/"
        },
        "outputId": "7cfc6754-85e9-41ea-aace-c94043496918"
      },
      "source": [
        "print('Coeficiente de assimetria com Pandas :',casa['Price'].skew())\n",
        "print('Coeficiente de assimetria com Scipy :',skew(casa['Price']))"
      ],
      "execution_count": 29,
      "outputs": [
        {
          "output_type": "stream",
          "text": [
            "Coeficiente de assimetria com Pandas : 6.823590994567408\n",
            "Coeficiente de assimetria com Scipy : 6.821978254927152\n"
          ],
          "name": "stdout"
        }
      ]
    },
    {
      "cell_type": "markdown",
      "metadata": {
        "id": "Asaaj_64XCFk"
      },
      "source": [
        "### **Coeficiente de curtose**\n",
        "\n",
        "Essa medida diz respeito ao formato da curva de distribuição do conjunto de dados. Se curva é mais plana do que a curva de uma distribuição normal, então diz-se que ela é platicúrtica. Se a curva é mais cônica que a curva de uma distribuição normal, diz-se que ela é leptocúrtica. Se curva é semelhante/igual a curva da distribuição normal, então dizemos que ela é mesocúrtica.\n",
        "\n",
        "Fórmula do coeficiente de curtose\n",
        "\n",
        "$S = \\sum_{i=1}^{n} \\dfrac{(X_i - \\overline{X})^4/n}{\\sigma^4}$\n",
        "\n",
        "Interpretação para o valor de $K$\n",
        "\n",
        "- $K > 3$, então curva leptocúrtica;\n",
        "- $K = 3$, então curva mesocúrtica;\n",
        "- $K < 3$, então curva platicúrtica.\n",
        "\n",
        "**Calculando o coeficiente de curtose em *Python*.**\n"
      ]
    },
    {
      "cell_type": "code",
      "metadata": {
        "id": "USyYBy-HQNfs",
        "colab": {
          "base_uri": "https://localhost:8080/"
        },
        "outputId": "3405c64b-3a71-4e21-e13c-382c7cdfb434"
      },
      "source": [
        "print('Coeficiente de assimetria com Pandas :',casa['Price'].kurtosis())\n",
        "print('Coeficiente de assimetria com Scipy :',kurtosis(casa['Price']))"
      ],
      "execution_count": 31,
      "outputs": [
        {
          "output_type": "stream",
          "text": [
            "Coeficiente de assimetria com Pandas : 85.18853615580598\n",
            "Coeficiente de assimetria com Scipy : 85.12049648459741\n"
          ],
          "name": "stdout"
        }
      ]
    },
    {
      "cell_type": "markdown",
      "metadata": {
        "id": "c07Gz62dpcSz"
      },
      "source": [
        "Para uma distribuição ser considerada normal o coeficiente de assimetria deve ser igual a zero ($S = 0$) e o coeficiente de curtose igual a três ($K = 3$)."
      ]
    }
  ]
}